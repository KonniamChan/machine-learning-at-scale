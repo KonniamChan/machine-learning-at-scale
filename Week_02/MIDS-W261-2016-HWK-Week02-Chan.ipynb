{
 "cells": [
  {
   "cell_type": "markdown",
   "metadata": {},
   "source": [
    "# MIDS W261: Machine Learning at Scale"
   ]
  },
  {
   "cell_type": "markdown",
   "metadata": {},
   "source": [
    "Konniam Chan  \n",
    "Time of submission: 12:30am PST   \n",
    "W261-3 Spring 2016    \n",
    "Week 2: Homework  \n",
    "January 26, 2016  "
   ]
  },
  {
   "cell_type": "markdown",
   "metadata": {},
   "source": [
    "### HW2.0.  \n",
    "What is a race condition in the context of parallel computation? Give an example.\n",
    "What is MapReduce?\n",
    "How does it differ from Hadoop?\n",
    "Which programming paradigm is Hadoop based on? Explain and give a simple example in code and show the code running."
   ]
  },
  {
   "cell_type": "markdown",
   "metadata": {
    "collapsed": true
   },
   "source": [
    "- Race condition could manifest itself as a bug in a parallel program without synchronization. The final value of the operation depends on operation order. For instance, if both A and B were to perform an operation X = X + 1, on the same variable. Depending on which gets done first, the result could be X + 1 or X + 2.\n",
    "- MapReduce is a parallel programming paradigm that enables distributed processing of data sets on commodity nodes. Hadoop is a set of open-source projects that facilitate parallel computing, including MapReduce, HDFS, Avro, Hive, and other utilities.\n",
    "- Hadoop utilizes MapReduce for processing, which resembles functional programming closely. Functional programming treats computations as functions, and avoids saving states whenever possible. MapReduce closely approximates the map and reduce functions in that regime. Examine sample code below:"
   ]
  },
  {
   "cell_type": "code",
   "execution_count": 409,
   "metadata": {
    "collapsed": false
   },
   "outputs": [
    {
     "name": "stdout",
     "output_type": "stream",
     "text": [
      "Sample mapper that computes x-square:\n",
      "[1, 4, 9, 16, 25]\n",
      "Sample reducer sums all elements:\n",
      "15\n"
     ]
    }
   ],
   "source": [
    "# Mapper\n",
    "input = [1,2,3,4,5]\n",
    "# Compute x^2 using map\n",
    "print \"Sample mapper that computes x-square:\"\n",
    "print map(lambda x: x**2, input)\n",
    "\n",
    "# Reducer\n",
    "print \"Sample reducer sums all elements:\"\n",
    "print reduce(lambda x,y: x+y, input)\n",
    "\n",
    "# Note: both mapper and reducer take another function, and use that function to transform the input"
   ]
  },
  {
   "cell_type": "markdown",
   "metadata": {},
   "source": [
    "### HW2.1. Sort in Hadoop MapReduce\n",
    "Given as input: Records of the form `<integer, “NA”>`, where integer is any integer, and “NA” is just the empty string.\n",
    "Output: sorted key value pairs of the form `<integer, “NA”>` in decreasing order; what happens if you have multiple reducers? Do you need additional steps? Explain.\n",
    "\n",
    "Write code to generate N  random records of the form `<integer, “NA”>`. Let N = 10,000.\n",
    "Write the python Hadoop streaming map-reduce job to perform this sort. Display the top 10 biggest numbers. Display the 10 smallest numbers"
   ]
  },
  {
   "cell_type": "code",
   "execution_count": 1,
   "metadata": {
    "collapsed": false
   },
   "outputs": [
    {
     "name": "stdout",
     "output_type": "stream",
     "text": [
      "starting yarn daemons\n",
      "starting resourcemanager, logging to /Users/InfernoIX/hadoop-2.7.1/logs/yarn-InfernoIX-resourcemanager-Konniams-MacBook-Air.local.out\n",
      "localhost: starting nodemanager, logging to /Users/InfernoIX/hadoop-2.7.1/logs/yarn-InfernoIX-nodemanager-Konniams-MacBook-Air.local.out\n",
      "16/01/23 15:26:17 WARN util.NativeCodeLoader: Unable to load native-hadoop library for your platform... using builtin-java classes where applicable\n",
      "Starting namenodes on [localhost]\n",
      "localhost: starting namenode, logging to /Users/InfernoIX/hadoop-2.7.1/logs/hadoop-InfernoIX-namenode-Konniams-MacBook-Air.local.out\n",
      "localhost: starting datanode, logging to /Users/InfernoIX/hadoop-2.7.1/logs/hadoop-InfernoIX-datanode-Konniams-MacBook-Air.local.out\n",
      "Starting secondary namenodes [0.0.0.0]\n",
      "0.0.0.0: starting secondarynamenode, logging to /Users/InfernoIX/hadoop-2.7.1/logs/hadoop-InfernoIX-secondarynamenode-Konniams-MacBook-Air.local.out\n",
      "16/01/23 15:26:37 WARN util.NativeCodeLoader: Unable to load native-hadoop library for your platform... using builtin-java classes where applicable\n"
     ]
    }
   ],
   "source": [
    "## Start HDFS and Yarn\n",
    "!start-yarn.sh\n",
    "!start-dfs.sh"
   ]
  },
  {
   "cell_type": "code",
   "execution_count": 1,
   "metadata": {
    "collapsed": true
   },
   "outputs": [],
   "source": [
    "# Import packages\n",
    "from __future__ import division\n",
    "import sys\n",
    "import numpy as np\n",
    "import pandas as pd\n",
    "import matplotlib.pyplot as plt\n",
    "import seaborn as sns\n",
    "%matplotlib inline"
   ]
  },
  {
   "cell_type": "code",
   "execution_count": 410,
   "metadata": {
    "collapsed": false
   },
   "outputs": [],
   "source": [
    "# Create input file\n",
    "def hw_2_1():\n",
    "    np.random.seed(0)\n",
    "    # Pick 10,000 numbers from 100,000 and save to txt\n",
    "    N = 10000\n",
    "    # Save\n",
    "    np.savetxt(\"hw_2_1.txt\", np.random.randint(0, 100000, N), fmt='%i,')\n",
    "\n",
    "hw_2_1()"
   ]
  },
  {
   "cell_type": "code",
   "execution_count": 41,
   "metadata": {
    "collapsed": false
   },
   "outputs": [
    {
     "name": "stdout",
     "output_type": "stream",
     "text": [
      "   10000 hw_2_1.txt\r\n"
     ]
    }
   ],
   "source": [
    "!wc -l hw_2_1.txt"
   ]
  },
  {
   "cell_type": "code",
   "execution_count": 411,
   "metadata": {
    "collapsed": false
   },
   "outputs": [
    {
     "name": "stdout",
     "output_type": "stream",
     "text": [
      "68268,\r\n",
      "43567,\r\n",
      "42613,\r\n",
      "45891,\r\n",
      "21243,\r\n",
      "95939,\r\n",
      "97639,\r\n",
      "41993,\r\n",
      "86293,\r\n",
      "55026,\r\n"
     ]
    }
   ],
   "source": [
    "!head hw_2_1.txt"
   ]
  },
  {
   "cell_type": "code",
   "execution_count": 24,
   "metadata": {
    "collapsed": false
   },
   "outputs": [
    {
     "name": "stdout",
     "output_type": "stream",
     "text": [
      "16/01/23 01:10:36 WARN util.NativeCodeLoader: Unable to load native-hadoop library for your platform... using builtin-java classes where applicable\r\n"
     ]
    }
   ],
   "source": [
    "# Put on HDFS\n",
    "!hdfs dfs -put hw_2_1.txt /user/konniam/week_02"
   ]
  },
  {
   "cell_type": "code",
   "execution_count": 412,
   "metadata": {
    "collapsed": false
   },
   "outputs": [
    {
     "name": "stdout",
     "output_type": "stream",
     "text": [
      "Overwriting /Users/InfernoIX/mapper.py\n"
     ]
    }
   ],
   "source": [
    "%%writefile ~/mapper.py\n",
    "#!/usr/bin/env python\n",
    "# MapReduce Task to Sort Numbers\n",
    "# The mapper will split the record of the form <integer, \"\"> into <integer \\t>.\n",
    "# This output will get sorted in reverse numerical order.\n",
    "# The reducer doesn't need to do anything, so it could be an IdentityReducer\n",
    "import sys\n",
    "for line in sys.stdin:\n",
    "    # Extract the number\n",
    "    num = line.strip().split(',')[0]\n",
    "    # Output the number\n",
    "    print num"
   ]
  },
  {
   "cell_type": "code",
   "execution_count": 70,
   "metadata": {
    "collapsed": true
   },
   "outputs": [],
   "source": [
    "!chmod a+x ~/mapper.py"
   ]
  },
  {
   "cell_type": "code",
   "execution_count": 420,
   "metadata": {
    "collapsed": false
   },
   "outputs": [
    {
     "name": "stdout",
     "output_type": "stream",
     "text": [
      "16/01/25 23:28:49 WARN util.NativeCodeLoader: Unable to load native-hadoop library for your platform... using builtin-java classes where applicable\n",
      "packageJobJar: [/var/folders/l8/h51_59852qscq403fs6q0xlh0000gn/T/hadoop-unjar8474472715611845283/] [] /var/folders/l8/h51_59852qscq403fs6q0xlh0000gn/T/streamjob679131600247708839.jar tmpDir=null\n",
      "16/01/25 23:28:51 INFO client.RMProxy: Connecting to ResourceManager at /0.0.0.0:8032\n",
      "16/01/25 23:28:51 INFO client.RMProxy: Connecting to ResourceManager at /0.0.0.0:8032\n",
      "16/01/25 23:28:52 INFO mapred.FileInputFormat: Total input paths to process : 1\n",
      "16/01/25 23:28:53 INFO mapreduce.JobSubmitter: number of splits:2\n",
      "16/01/25 23:28:53 INFO mapreduce.JobSubmitter: Submitting tokens for job: job_1453765434085_0010\n",
      "16/01/25 23:28:53 INFO impl.YarnClientImpl: Submitted application application_1453765434085_0010\n",
      "16/01/25 23:28:53 INFO mapreduce.Job: The url to track the job: http://Konniams-MacBook-Air.local:8088/proxy/application_1453765434085_0010/\n",
      "16/01/25 23:28:53 INFO mapreduce.Job: Running job: job_1453765434085_0010\n",
      "16/01/25 23:29:04 INFO mapreduce.Job: Job job_1453765434085_0010 running in uber mode : false\n",
      "16/01/25 23:29:04 INFO mapreduce.Job:  map 0% reduce 0%\n",
      "16/01/25 23:29:17 INFO mapreduce.Job:  map 100% reduce 0%\n",
      "16/01/25 23:29:24 INFO mapreduce.Job:  map 100% reduce 100%\n",
      "16/01/25 23:29:24 INFO mapreduce.Job: Job job_1453765434085_0010 completed successfully\n",
      "16/01/25 23:29:24 INFO mapreduce.Job: Counters: 49\n",
      "\tFile System Counters\n",
      "\t\tFILE: Number of bytes read=88889\n",
      "\t\tFILE: Number of bytes written=529572\n",
      "\t\tFILE: Number of read operations=0\n",
      "\t\tFILE: Number of large read operations=0\n",
      "\t\tFILE: Number of write operations=0\n",
      "\t\tHDFS: Number of bytes read=62420\n",
      "\t\tHDFS: Number of bytes written=68883\n",
      "\t\tHDFS: Number of read operations=9\n",
      "\t\tHDFS: Number of large read operations=0\n",
      "\t\tHDFS: Number of write operations=2\n",
      "\tJob Counters \n",
      "\t\tLaunched map tasks=2\n",
      "\t\tLaunched reduce tasks=1\n",
      "\t\tData-local map tasks=2\n",
      "\t\tTotal time spent by all maps in occupied slots (ms)=22615\n",
      "\t\tTotal time spent by all reduces in occupied slots (ms)=4512\n",
      "\t\tTotal time spent by all map tasks (ms)=22615\n",
      "\t\tTotal time spent by all reduce tasks (ms)=4512\n",
      "\t\tTotal vcore-seconds taken by all map tasks=22615\n",
      "\t\tTotal vcore-seconds taken by all reduce tasks=4512\n",
      "\t\tTotal megabyte-seconds taken by all map tasks=23157760\n",
      "\t\tTotal megabyte-seconds taken by all reduce tasks=4620288\n",
      "\tMap-Reduce Framework\n",
      "\t\tMap input records=10000\n",
      "\t\tMap output records=10000\n",
      "\t\tMap output bytes=68883\n",
      "\t\tMap output materialized bytes=88895\n",
      "\t\tInput split bytes=210\n",
      "\t\tCombine input records=0\n",
      "\t\tCombine output records=0\n",
      "\t\tReduce input groups=9491\n",
      "\t\tReduce shuffle bytes=88895\n",
      "\t\tReduce input records=10000\n",
      "\t\tReduce output records=10000\n",
      "\t\tSpilled Records=20000\n",
      "\t\tShuffled Maps =2\n",
      "\t\tFailed Shuffles=0\n",
      "\t\tMerged Map outputs=2\n",
      "\t\tGC time elapsed (ms)=561\n",
      "\t\tCPU time spent (ms)=0\n",
      "\t\tPhysical memory (bytes) snapshot=0\n",
      "\t\tVirtual memory (bytes) snapshot=0\n",
      "\t\tTotal committed heap usage (bytes)=490209280\n",
      "\tShuffle Errors\n",
      "\t\tBAD_ID=0\n",
      "\t\tCONNECTION=0\n",
      "\t\tIO_ERROR=0\n",
      "\t\tWRONG_LENGTH=0\n",
      "\t\tWRONG_MAP=0\n",
      "\t\tWRONG_REDUCE=0\n",
      "\tFile Input Format Counters \n",
      "\t\tBytes Read=62210\n",
      "\tFile Output Format Counters \n",
      "\t\tBytes Written=68883\n",
      "16/01/25 23:29:24 INFO streaming.StreamJob: Output directory: /user/konniam/week_02/hw_2_1_output\n"
     ]
    }
   ],
   "source": [
    "# Run MapReduce job\n",
    "# The keycomparator options make the sorting come in descending order\n",
    "# Use 1 reducer\n",
    "!hadoop jar hadoop-streaming-2.7.1.jar \\\n",
    "-D mapreduce.job.output.key.comparator.class=org.apache.hadoop.mapreduce.lib.partition.KeyFieldBasedComparator \\\n",
    "-D mapreduce.partition.keycomparator.options=-k1,1nr \\\n",
    "-D mapreduce.job.reduces=1 \\\n",
    "-mapper ~/mapper.py \\\n",
    "-reducer org.apache.hadoop.mapred.lib.IdentityReducer \\\n",
    "-input /user/konniam/week_02/hw_2_1.txt \\\n",
    "-output /user/konniam/week_02/hw_2_1_output \\"
   ]
  },
  {
   "cell_type": "code",
   "execution_count": 421,
   "metadata": {
    "collapsed": false
   },
   "outputs": [
    {
     "name": "stdout",
     "output_type": "stream",
     "text": [
      "16/01/25 23:29:33 WARN util.NativeCodeLoader: Unable to load native-hadoop library for your platform... using builtin-java classes where applicable\n",
      "99980\t\n",
      "99975\t\n",
      "99965\t\n",
      "99963\t\n",
      "99943\t\n",
      "99938\t\n",
      "99920\t\n",
      "99914\t\n",
      "99913\t\n",
      "99892\t\n",
      "cat: Unable to write to output stream.\n"
     ]
    }
   ],
   "source": [
    "# Display 10 biggest numbers\n",
    "!hdfs dfs -cat /user/konniam/week_02/hw_2_1_output/* | head"
   ]
  },
  {
   "cell_type": "code",
   "execution_count": 422,
   "metadata": {
    "collapsed": false
   },
   "outputs": [
    {
     "name": "stdout",
     "output_type": "stream",
     "text": [
      "16/01/25 23:29:38 WARN util.NativeCodeLoader: Unable to load native-hadoop library for your platform... using builtin-java classes where applicable\n",
      "102\t\n",
      "100\t\n",
      "95\t\n",
      "93\t\n",
      "75\t\n",
      "43\t\n",
      "30\t\n",
      "21\t\n",
      "13\t\n",
      "10\t\n"
     ]
    }
   ],
   "source": [
    "# Display 10 smallest numbers\n",
    "!hdfs dfs -cat /user/konniam/week_02/hw_2_1_output/* | tail"
   ]
  },
  {
   "cell_type": "markdown",
   "metadata": {},
   "source": [
    "#### 2.1 Response\n",
    "Here we used one reducer. If we were to use multiple reducers, each reducer will output its own file with sorted numbers. However, unless we sort all the numbers before we partition them for the reducers. We only get a few files with their own sorted list. We would have to sort all the files one more time."
   ]
  },
  {
   "cell_type": "markdown",
   "metadata": {},
   "source": [
    "### HW2.2.  WORDCOUNT\n",
    "Using the Enron data from HW1 and Hadoop MapReduce streaming, write the mapper/reducer job that  will determine the word count (number of occurrences) of each white-space delimitted token (assume spaces, fullstops, comma as delimiters). Examine the word “assistance” and report its word count results.\n",
    "\n",
    " \n",
    "CROSSCHECK: >grep assistance enronemail_1h.txt|cut -d$'\\t' -f4| grep assistance|wc -l    \n",
    "       8    \n",
    "NOTE  \"assistance\" occurs on 8 lines but how many times does the token occur? 10 times! This is the number we are looking for!"
   ]
  },
  {
   "cell_type": "markdown",
   "metadata": {},
   "source": [
    "(Optional)\n",
    "Remove ^A and ^M characters using vi from the training data first."
   ]
  },
  {
   "cell_type": "code",
   "execution_count": 55,
   "metadata": {
    "collapsed": false
   },
   "outputs": [
    {
     "name": "stdout",
     "output_type": "stream",
     "text": [
      "Overwriting /Users/InfernoIX/mapper.py\n"
     ]
    }
   ],
   "source": [
    "%%writefile ~/mapper.py\n",
    "#!/usr/bin/env python\n",
    "## mapper.py\n",
    "## Author: Konniam Chan\n",
    "## Description: mapper code for HW2.2\n",
    "import sys\n",
    "import re\n",
    "import string\n",
    "from collections import Counter\n",
    "\n",
    "# Regex split objects with specified delimiters (space, period, comma)\n",
    "regex_beg = re.compile(r'^[\\s.,\"]+')\n",
    "regex_end = re.compile(r'[\\s.,\"]+$')\n",
    "regex_split = re.compile(r'[\\s.,]+')\n",
    "# Counter dictionary\n",
    "wordcounts = Counter()\n",
    "\n",
    "# Process each document\n",
    "for line in sys.stdin:\n",
    "    # Lower case\n",
    "    line = line.strip().lower()\n",
    "    # Some lines have missing subjects\n",
    "    if len(line.split(\"\\t\")) == 4:\n",
    "        doc_id, label, subject, body = line.split(\"\\t\")\n",
    "    else:\n",
    "        subject = \"na\"\n",
    "        doc_id, label, body = line.split(\"\\t\")\n",
    "    # Remove delimiters at beginning and end of subjects and body    \n",
    "    subject = regex_beg.sub('', subject)\n",
    "    subject = regex_end.sub('', subject)\n",
    "    body = regex_beg.sub('', body)\n",
    "    body = regex_end.sub('', body)\n",
    "    # Split into words\n",
    "    words = regex_split.split(subject + \" \" + body)\n",
    "    # Sum words that go through each mapper\n",
    "    wordcounts += Counter(words)\n",
    "\n",
    "# Output\n",
    "for word, count in wordcounts.items():\n",
    "    print '%s\\t%s' % (word, count)"
   ]
  },
  {
   "cell_type": "code",
   "execution_count": 59,
   "metadata": {
    "collapsed": false
   },
   "outputs": [
    {
     "name": "stdout",
     "output_type": "stream",
     "text": [
      "Overwriting /Users/InfernoIX/reducer.py\n"
     ]
    }
   ],
   "source": [
    "%%writefile ~/reducer.py\n",
    "#!/usr/bin/env python\n",
    "## reducer.py\n",
    "## Author: Konniam Chan\n",
    "## Description: reducer code for HW2.2\n",
    "import sys\n",
    "current_word = None\n",
    "current_count = 0\n",
    "word = None\n",
    "\n",
    "for line in sys.stdin:\n",
    "    # Obtain word and intermediate counts\n",
    "    line = line.strip()\n",
    "    word, count = line.split('\\t', 1)\n",
    "    count = int(count)\n",
    "    # Rely on sorting to increment word counts\n",
    "    if current_word == word:\n",
    "        current_count += count\n",
    "    else:\n",
    "        if current_word:            \n",
    "            print '%s\\t%s' % (current_word, current_count)\n",
    "        current_count = count\n",
    "        current_word = word\n",
    "\n",
    "# Output last word\n",
    "if current_word == word:\n",
    "    print '%s\\t%s' % (current_word, current_count)"
   ]
  },
  {
   "cell_type": "code",
   "execution_count": 11,
   "metadata": {
    "collapsed": false
   },
   "outputs": [],
   "source": [
    "!chmod a+x ~/reducer.py"
   ]
  },
  {
   "cell_type": "code",
   "execution_count": 63,
   "metadata": {
    "collapsed": false
   },
   "outputs": [
    {
     "name": "stdout",
     "output_type": "stream",
     "text": [
      "16/01/24 11:57:21 WARN util.NativeCodeLoader: Unable to load native-hadoop library for your platform... using builtin-java classes where applicable\r\n"
     ]
    }
   ],
   "source": [
    "# Put enron emails onto HDFS\n",
    "!hdfs dfs -put enronemail_1h.txt /user/konniam/week_02"
   ]
  },
  {
   "cell_type": "code",
   "execution_count": 65,
   "metadata": {
    "collapsed": false,
    "scrolled": true
   },
   "outputs": [
    {
     "name": "stdout",
     "output_type": "stream",
     "text": [
      "16/01/24 11:58:04 WARN util.NativeCodeLoader: Unable to load native-hadoop library for your platform... using builtin-java classes where applicable\n",
      "packageJobJar: [/var/folders/l8/h51_59852qscq403fs6q0xlh0000gn/T/hadoop-unjar2874213692464979909/] [] /var/folders/l8/h51_59852qscq403fs6q0xlh0000gn/T/streamjob1868682628016300695.jar tmpDir=null\n",
      "16/01/24 11:58:06 INFO client.RMProxy: Connecting to ResourceManager at /0.0.0.0:8032\n",
      "16/01/24 11:58:06 INFO client.RMProxy: Connecting to ResourceManager at /0.0.0.0:8032\n",
      "16/01/24 11:58:07 INFO mapred.FileInputFormat: Total input paths to process : 1\n",
      "16/01/24 11:58:07 INFO mapreduce.JobSubmitter: number of splits:2\n",
      "16/01/24 11:58:07 INFO mapreduce.JobSubmitter: Submitting tokens for job: job_1453657675452_0002\n",
      "16/01/24 11:58:07 INFO impl.YarnClientImpl: Submitted application application_1453657675452_0002\n",
      "16/01/24 11:58:07 INFO mapreduce.Job: The url to track the job: http://Konniams-MacBook-Air.local:8088/proxy/application_1453657675452_0002/\n",
      "16/01/24 11:58:07 INFO mapreduce.Job: Running job: job_1453657675452_0002\n",
      "16/01/24 11:58:16 INFO mapreduce.Job: Job job_1453657675452_0002 running in uber mode : false\n",
      "16/01/24 11:58:16 INFO mapreduce.Job:  map 0% reduce 0%\n",
      "16/01/24 11:58:25 INFO mapreduce.Job:  map 100% reduce 0%\n",
      "16/01/24 11:58:33 INFO mapreduce.Job:  map 100% reduce 100%\n",
      "16/01/24 11:58:33 INFO mapreduce.Job: Job job_1453657675452_0002 completed successfully\n",
      "16/01/24 11:58:33 INFO mapreduce.Job: Counters: 49\n",
      "\tFile System Counters\n",
      "\t\tFILE: Number of bytes read=94462\n",
      "\t\tFILE: Number of bytes written=541093\n",
      "\t\tFILE: Number of read operations=0\n",
      "\t\tFILE: Number of large read operations=0\n",
      "\t\tFILE: Number of write operations=0\n",
      "\t\tHDFS: Number of bytes read=217192\n",
      "\t\tHDFS: Number of bytes written=64704\n",
      "\t\tHDFS: Number of read operations=9\n",
      "\t\tHDFS: Number of large read operations=0\n",
      "\t\tHDFS: Number of write operations=2\n",
      "\tJob Counters \n",
      "\t\tLaunched map tasks=2\n",
      "\t\tLaunched reduce tasks=1\n",
      "\t\tData-local map tasks=2\n",
      "\t\tTotal time spent by all maps in occupied slots (ms)=13746\n",
      "\t\tTotal time spent by all reduces in occupied slots (ms)=4853\n",
      "\t\tTotal time spent by all map tasks (ms)=13746\n",
      "\t\tTotal time spent by all reduce tasks (ms)=4853\n",
      "\t\tTotal vcore-seconds taken by all map tasks=13746\n",
      "\t\tTotal vcore-seconds taken by all reduce tasks=4853\n",
      "\t\tTotal megabyte-seconds taken by all map tasks=14075904\n",
      "\t\tTotal megabyte-seconds taken by all reduce tasks=4969472\n",
      "\tMap-Reduce Framework\n",
      "\t\tMap input records=100\n",
      "\t\tMap output records=7926\n",
      "\t\tMap output bytes=78604\n",
      "\t\tMap output materialized bytes=94468\n",
      "\t\tInput split bytes=224\n",
      "\t\tCombine input records=0\n",
      "\t\tCombine output records=0\n",
      "\t\tReduce input groups=6374\n",
      "\t\tReduce shuffle bytes=94468\n",
      "\t\tReduce input records=7926\n",
      "\t\tReduce output records=6374\n",
      "\t\tSpilled Records=15852\n",
      "\t\tShuffled Maps =2\n",
      "\t\tFailed Shuffles=0\n",
      "\t\tMerged Map outputs=2\n",
      "\t\tGC time elapsed (ms)=346\n",
      "\t\tCPU time spent (ms)=0\n",
      "\t\tPhysical memory (bytes) snapshot=0\n",
      "\t\tVirtual memory (bytes) snapshot=0\n",
      "\t\tTotal committed heap usage (bytes)=492830720\n",
      "\tShuffle Errors\n",
      "\t\tBAD_ID=0\n",
      "\t\tCONNECTION=0\n",
      "\t\tIO_ERROR=0\n",
      "\t\tWRONG_LENGTH=0\n",
      "\t\tWRONG_MAP=0\n",
      "\t\tWRONG_REDUCE=0\n",
      "\tFile Input Format Counters \n",
      "\t\tBytes Read=216968\n",
      "\tFile Output Format Counters \n",
      "\t\tBytes Written=64704\n",
      "16/01/24 11:58:33 INFO streaming.StreamJob: Output directory: /user/konniam/week_02/hw_2_2_output\n"
     ]
    }
   ],
   "source": [
    "# Run MapReduce job\n",
    "# Specify 1 reducer in this case \n",
    "!hadoop jar hadoop-streaming-2.7.1.jar \\\n",
    "-D mapreduce.job.reduces=1 \\\n",
    "-mapper ~/mapper.py \\\n",
    "-reducer ~/reducer.py \\\n",
    "-input /user/konniam/week_02/enronemail_1h.txt \\\n",
    "-output /user/konniam/week_02/hw_2_2_output \\"
   ]
  },
  {
   "cell_type": "code",
   "execution_count": 67,
   "metadata": {
    "collapsed": false
   },
   "outputs": [
    {
     "name": "stdout",
     "output_type": "stream",
     "text": [
      "16/01/24 12:01:46 WARN util.NativeCodeLoader: Unable to load native-hadoop library for your platform... using builtin-java classes where applicable\n",
      "assistance\t10\n"
     ]
    }
   ],
   "source": [
    "# Check the word \"assistance\"\n",
    "!hdfs dfs -cat /user/konniam/week_02/hw_2_2_output/* | grep assistance"
   ]
  },
  {
   "cell_type": "markdown",
   "metadata": {},
   "source": [
    "### HW2.2.1  \n",
    "Using Hadoop MapReduce and your wordcount job (from HW2.2) determine the top-10 occurring tokens (most frequent tokens)"
   ]
  },
  {
   "cell_type": "code",
   "execution_count": 66,
   "metadata": {
    "collapsed": false,
    "scrolled": true
   },
   "outputs": [
    {
     "name": "stdout",
     "output_type": "stream",
     "text": [
      "16/01/24 12:00:31 WARN util.NativeCodeLoader: Unable to load native-hadoop library for your platform... using builtin-java classes where applicable\n",
      "the\t1240\n",
      "to\t914\n",
      "and\t659\n",
      "of\t556\n",
      "a\t527\n",
      "in\t415\n",
      "you\t407\n",
      "your\t389\n",
      "for\t369\n",
      "@\t361\n",
      "sort: write failed: standard output: Broken pipe\n",
      "sort: write error\n"
     ]
    }
   ],
   "source": [
    "!hdfs dfs -cat /user/konniam/week_02/hw_2_2_output/* | sort -k2,2nr | head"
   ]
  },
  {
   "cell_type": "markdown",
   "metadata": {},
   "source": [
    "### HW2.3. Multinomial NAIVE BAYES with NO Smoothing\n",
    "Using the Enron data from HW1 and Hadoop MapReduce, write  a mapper/reducer job(s) that\n",
    "   will both learn  Naive Bayes classifier and classify the Enron email messages using the learnt Naive Bayes classifier. Use all white-space delimitted tokens as independent input variables (assume spaces, fullstops, commas as delimiters). Note: for multinomial Naive Bayes, the Pr(X=“assistance”|Y=SPAM) is calculated as follows:\n",
    "\n",
    "   the number of times “assistance” occurs in SPAM labeled documents / the number of words in documents labeled SPAM \n",
    "\n",
    "   E.g.,   “assistance” occurs 5 times in all of the documents Labeled SPAM, and the length in terms of the number of words in all documents labeled as SPAM (when concatenated) is 1,000. Then Pr(X=“assistance”|Y=SPAM) = 5/1000. Note this is a multinomial estimation of the class conditional for a Naive Bayes Classifier. No smoothing is needed in this HW. Multiplying lots of probabilities, which are between 0 and 1, can result in floating-point underflow. Since log(xy) = log(x) + log(y), it is better to perform all computations by summing logs of probabilities rather than multiplying probabilities. Please pay attention to probabilites that are zero! They will need special attention. Count up how many times you need to process a zero probabilty for each class and report. \n",
    "\n",
    "   Report the performance of your learnt classifier in terms of misclassifcation error rate of your multinomial Naive Bayes Classifier. Plot a histogram of the log posterior probabilities (i.e., log(Pr(Class|Doc))) for each class over the training set. Summarize what you see. \n",
    "\n",
    "   Error Rate = misclassification rate with respect to a provided set (say training set in this case). It is more formally defined here:\n",
    "\n",
    "Let DF represent the evalution set in the following:\n",
    "Err(Model, DF) = |{(X, c(X)) ∈ DF : c(X) != Model(x)}|   / |DF|\n",
    "\n",
    "Where || denotes set cardinality; c(X) denotes the class of the tuple X in DF; and Model(X) denotes the class inferred by the Model “Model”"
   ]
  },
  {
   "cell_type": "markdown",
   "metadata": {},
   "source": [
    "#### 2.3 Strategy\n",
    "Split this exercise into 2 sets of MR jobs.  \n",
    "**Training Step**  \n",
    "1 - Mapper: (Input docs) -> intermediate (word, spam/ham, count)  \n",
    "1 - Reducer: intermediate (word, spam/ham, count) -> final (word, spam/ham, count)  \n",
    "**Classification Step**  \n",
    "2 - Mapper: (Input docs) -> predicted labels  \n",
    "2 - Reducer: None  \n",
    "(pass in word counts from training step to do classification)  \n",
    "  \n",
    "We will use this same strategy for all MapReduce NB jobs here in this HW."
   ]
  },
  {
   "cell_type": "markdown",
   "metadata": {},
   "source": [
    "#### 2.3 Training"
   ]
  },
  {
   "cell_type": "code",
   "execution_count": 259,
   "metadata": {
    "collapsed": false
   },
   "outputs": [
    {
     "name": "stdout",
     "output_type": "stream",
     "text": [
      "Overwriting /Users/InfernoIX/mapper.py\n"
     ]
    }
   ],
   "source": [
    "%%writefile ~/mapper.py\n",
    "#!/usr/bin/env python\n",
    "## mapper.py\n",
    "## Author: Konniam Chan\n",
    "## Description: mapper code for HW2.3\n",
    "import sys\n",
    "import re\n",
    "import string\n",
    "from collections import Counter\n",
    "# Map from integer label to word label\n",
    "label_map = {\"1\":\"spam\", \"0\":\"ham\"}\n",
    "# Dictionary to keep track of terms\n",
    "wordcounts = {\"spam\": Counter(), \"ham\": Counter()}\n",
    "# Regex split objects with specified delimiters (space, period, comma)\n",
    "regex_beg = re.compile(r'^[\\s.,\"]+')\n",
    "regex_end = re.compile(r'[\\s.,\"]+$')\n",
    "regex_split = re.compile(r'[\\s.,]+')\n",
    "\n",
    "# Process each document\n",
    "for line in sys.stdin:\n",
    "    # Lower case\n",
    "    line = line.strip().lower()\n",
    "    # Some lines have missing subjects\n",
    "    if len(line.split(\"\\t\")) == 4:\n",
    "        doc_id, label, subject, body = line.split(\"\\t\")\n",
    "    else:\n",
    "        subject = \"na\"\n",
    "        doc_id, label, body = line.split(\"\\t\")\n",
    "    # Remove delimiters at beginning and end of subjects and body\n",
    "    subject = regex_beg.sub('', subject)\n",
    "    subject = regex_end.sub('', subject)\n",
    "    body = regex_beg.sub('', body)\n",
    "    body = regex_end.sub('', body)\n",
    "    # Split into words\n",
    "    words = regex_split.split(subject + \" \" + body)\n",
    "    # Sum words that go through each mapper\n",
    "    label = label_map[label]\n",
    "    wordcounts[label] += Counter(words)\n",
    "    # Increment number of documents\n",
    "    wordcounts[label][\"*numdocs\"] += 1\n",
    "# Output each word\n",
    "for label in wordcounts:\n",
    "    for word in wordcounts[label]:\n",
    "        print '%s\\t%s\\t%s' % (word, label, wordcounts[label][word])"
   ]
  },
  {
   "cell_type": "code",
   "execution_count": 260,
   "metadata": {
    "collapsed": false
   },
   "outputs": [
    {
     "name": "stdout",
     "output_type": "stream",
     "text": [
      "Overwriting /Users/InfernoIX/reducer.py\n"
     ]
    }
   ],
   "source": [
    "%%writefile ~/reducer.py\n",
    "#!/usr/bin/env python\n",
    "## reducer.py\n",
    "## Author: Konniam Chan\n",
    "## Description: reducer code for HW2.3\n",
    "import sys\n",
    "from collections import Counter\n",
    "\n",
    "# Dictionary to keep track of terms\n",
    "wordcounts = {\"spam\": Counter(), \"ham\": Counter()}\n",
    "# Process each tuple in the form of (word, spam/ham, count) separated by \\t\n",
    "for line in sys.stdin:\n",
    "    word, label, count = line.strip().split(\"\\t\")\n",
    "    wordcounts[label][word] += int(count)\n",
    "\n",
    "# Output each word\n",
    "for label in wordcounts:\n",
    "    for word in wordcounts[label]:\n",
    "        print '%s\\t%s\\t%s' % (word, label, wordcounts[label][word])"
   ]
  },
  {
   "cell_type": "code",
   "execution_count": 75,
   "metadata": {
    "collapsed": false
   },
   "outputs": [
    {
     "name": "stdout",
     "output_type": "stream",
     "text": [
      "16/01/24 12:07:02 WARN util.NativeCodeLoader: Unable to load native-hadoop library for your platform... using builtin-java classes where applicable\n",
      "packageJobJar: [/var/folders/l8/h51_59852qscq403fs6q0xlh0000gn/T/hadoop-unjar8048476221407268102/] [] /var/folders/l8/h51_59852qscq403fs6q0xlh0000gn/T/streamjob3395343983938593158.jar tmpDir=null\n",
      "16/01/24 12:07:03 INFO client.RMProxy: Connecting to ResourceManager at /0.0.0.0:8032\n",
      "16/01/24 12:07:04 INFO client.RMProxy: Connecting to ResourceManager at /0.0.0.0:8032\n",
      "16/01/24 12:07:05 INFO mapred.FileInputFormat: Total input paths to process : 1\n",
      "16/01/24 12:07:05 INFO mapreduce.JobSubmitter: number of splits:2\n",
      "16/01/24 12:07:05 INFO mapreduce.JobSubmitter: Submitting tokens for job: job_1453657675452_0004\n",
      "16/01/24 12:07:05 INFO impl.YarnClientImpl: Submitted application application_1453657675452_0004\n",
      "16/01/24 12:07:05 INFO mapreduce.Job: The url to track the job: http://Konniams-MacBook-Air.local:8088/proxy/application_1453657675452_0004/\n",
      "16/01/24 12:07:05 INFO mapreduce.Job: Running job: job_1453657675452_0004\n",
      "16/01/24 12:07:13 INFO mapreduce.Job: Job job_1453657675452_0004 running in uber mode : false\n",
      "16/01/24 12:07:13 INFO mapreduce.Job:  map 0% reduce 0%\n",
      "16/01/24 12:07:23 INFO mapreduce.Job:  map 100% reduce 0%\n",
      "16/01/24 12:07:30 INFO mapreduce.Job:  map 100% reduce 100%\n",
      "16/01/24 12:07:31 INFO mapreduce.Job: Job job_1453657675452_0004 completed successfully\n",
      "16/01/24 12:07:31 INFO mapreduce.Job: Counters: 49\n",
      "\tFile System Counters\n",
      "\t\tFILE: Number of bytes read=147362\n",
      "\t\tFILE: Number of bytes written=646893\n",
      "\t\tFILE: Number of read operations=0\n",
      "\t\tFILE: Number of large read operations=0\n",
      "\t\tFILE: Number of write operations=0\n",
      "\t\tHDFS: Number of bytes read=217192\n",
      "\t\tHDFS: Number of bytes written=107220\n",
      "\t\tHDFS: Number of read operations=9\n",
      "\t\tHDFS: Number of large read operations=0\n",
      "\t\tHDFS: Number of write operations=2\n",
      "\tJob Counters \n",
      "\t\tLaunched map tasks=2\n",
      "\t\tLaunched reduce tasks=1\n",
      "\t\tData-local map tasks=2\n",
      "\t\tTotal time spent by all maps in occupied slots (ms)=14192\n",
      "\t\tTotal time spent by all reduces in occupied slots (ms)=4674\n",
      "\t\tTotal time spent by all map tasks (ms)=14192\n",
      "\t\tTotal time spent by all reduce tasks (ms)=4674\n",
      "\t\tTotal vcore-seconds taken by all map tasks=14192\n",
      "\t\tTotal vcore-seconds taken by all reduce tasks=4674\n",
      "\t\tTotal megabyte-seconds taken by all map tasks=14532608\n",
      "\t\tTotal megabyte-seconds taken by all reduce tasks=4786176\n",
      "\tMap-Reduce Framework\n",
      "\t\tMap input records=100\n",
      "\t\tMap output records=9056\n",
      "\t\tMap output bytes=129244\n",
      "\t\tMap output materialized bytes=147368\n",
      "\t\tInput split bytes=224\n",
      "\t\tCombine input records=0\n",
      "\t\tCombine output records=0\n",
      "\t\tReduce input groups=6375\n",
      "\t\tReduce shuffle bytes=147368\n",
      "\t\tReduce input records=9056\n",
      "\t\tReduce output records=7390\n",
      "\t\tSpilled Records=18112\n",
      "\t\tShuffled Maps =2\n",
      "\t\tFailed Shuffles=0\n",
      "\t\tMerged Map outputs=2\n",
      "\t\tGC time elapsed (ms)=271\n",
      "\t\tCPU time spent (ms)=0\n",
      "\t\tPhysical memory (bytes) snapshot=0\n",
      "\t\tVirtual memory (bytes) snapshot=0\n",
      "\t\tTotal committed heap usage (bytes)=502792192\n",
      "\tShuffle Errors\n",
      "\t\tBAD_ID=0\n",
      "\t\tCONNECTION=0\n",
      "\t\tIO_ERROR=0\n",
      "\t\tWRONG_LENGTH=0\n",
      "\t\tWRONG_MAP=0\n",
      "\t\tWRONG_REDUCE=0\n",
      "\tFile Input Format Counters \n",
      "\t\tBytes Read=216968\n",
      "\tFile Output Format Counters \n",
      "\t\tBytes Written=107220\n",
      "16/01/24 12:07:31 INFO streaming.StreamJob: Output directory: /user/konniam/week_02/hw_2_3_output\n"
     ]
    }
   ],
   "source": [
    "# Run MapReduce job\n",
    "# Specify 1 reducer\n",
    "!hadoop jar hadoop-streaming-2.7.1.jar \\\n",
    "-D mapreduce.job.reduces=1 \\\n",
    "-mapper ~/mapper.py \\\n",
    "-reducer ~/reducer.py \\\n",
    "-input /user/konniam/week_02/enronemail_1h.txt \\\n",
    "-output /user/konniam/week_02/hw_2_3_output"
   ]
  },
  {
   "cell_type": "code",
   "execution_count": 152,
   "metadata": {
    "collapsed": false
   },
   "outputs": [
    {
     "name": "stdout",
     "output_type": "stream",
     "text": [
      "16/01/24 15:43:47 WARN util.NativeCodeLoader: Unable to load native-hadoop library for your platform... using builtin-java classes where applicable\n",
      "!!\tspam\t1\n",
      "\"\"\tham\t83\n",
      "\"\"\tspam\t174\n",
      "\"\"'bcli\tham\t1\n",
      "\"\"'benewm\tham\t1\n",
      "\"\"'bjeffrie\tham\t1\n",
      "\"\"'blong\tham\t1\n",
      "\"\"'bredd\tham\t1\n",
      "\"\"'celias\tham\t1\n",
      "\"\"'cenochs\tham\t1\n",
      "sort: write failed: standard output: Broken pipe\n",
      "sort: write error\n"
     ]
    }
   ],
   "source": [
    "!hdfs dfs -cat /user/konniam/week_02/hw_2_3_output/part* | sort -k1,1 | head"
   ]
  },
  {
   "cell_type": "markdown",
   "metadata": {},
   "source": [
    "#### 2.3 Classification\n",
    "The above MR job trained the model by obtaining the counts of all terms in either spam or ham.  \n",
    "We can now pass the result file from above when we want to classify our training data."
   ]
  },
  {
   "cell_type": "code",
   "execution_count": 121,
   "metadata": {
    "collapsed": false
   },
   "outputs": [
    {
     "name": "stdout",
     "output_type": "stream",
     "text": [
      "Overwriting /Users/InfernoIX/mapper_classify.py\n"
     ]
    }
   ],
   "source": [
    "%%writefile ~/mapper_classify.py\n",
    "#!/usr/bin/env python\n",
    "## mapper_classify.py\n",
    "## Author: Konniam Chan\n",
    "## Description: classification mapper code for HW2.3\n",
    "from __future__ import division\n",
    "import sys\n",
    "import re\n",
    "import string\n",
    "import math\n",
    "\n",
    "# Map from integer label to word label\n",
    "label_map = {\"1\":\"spam\", \"0\":\"ham\"}\n",
    "# Regex split objects with specified delimiters (space, period, comma)\n",
    "regex_beg = re.compile(r'^[\\s.,\"]+')\n",
    "regex_end = re.compile(r'[\\s.,\"]+$')\n",
    "regex_split = re.compile(r'[\\s.,]+')\n",
    "\n",
    "# Load trained Naive Bayes model in memory\n",
    "wordcounts = {\"spam\": {}, \"ham\": {}}\n",
    "with open(\"wordcounts_2_3.txt\", \"r\") as f:\n",
    "    for line in f:\n",
    "        word, label, count = line.strip().split(\"\\t\")\n",
    "        wordcounts[label][word] = int(count)\n",
    "# Calculate total number of terms\n",
    "terms_spam = sum(wordcounts['spam'].values())\n",
    "terms_ham = sum(wordcounts['ham'].values())\n",
    "# Calculate priors\n",
    "prior_spam = wordcounts['spam']['*numdocs'] / (wordcounts['spam']['*numdocs'] + wordcounts['ham']['*numdocs'])\n",
    "prior_ham = 1 - prior_spam\n",
    "\n",
    "# Process each document\n",
    "for line in sys.stdin:\n",
    "    line = line.strip().lower()\n",
    "    # Some lines have missing subjects\n",
    "    if len(line.split(\"\\t\")) == 4:\n",
    "        doc_id, label, subject, body = line.split(\"\\t\")\n",
    "    else:\n",
    "        subject = \"na\"\n",
    "        doc_id, label, body = line.split(\"\\t\")\n",
    "    # Remove delimiters at beginning and end of subjects and body\n",
    "    subject = regex_beg.sub('', subject)\n",
    "    subject = regex_end.sub('', subject)\n",
    "    body = regex_beg.sub('', body)\n",
    "    body = regex_end.sub('', body)\n",
    "    # Split into words\n",
    "    words = regex_split.split(subject + \" \" + body)\n",
    "    \n",
    "    # Initialize probabilities with priors\n",
    "    log_probs = {\"spam\": math.log(prior_spam), \"ham\": math.log(prior_ham)}\n",
    "    # Keep track of number of zero probabilities for each doc\n",
    "    zero_spam, zero_ham = 0, 0\n",
    "    # Iterate through each word and add probabilities\n",
    "    for word in words:\n",
    "        # If word frequency is zero, record it, then skip the term\n",
    "        if word not in wordcounts['spam'] or word not in wordcounts['ham']:\n",
    "            if word not in wordcounts['spam']:\n",
    "                zero_spam += 1\n",
    "            else:\n",
    "                zero_ham += 1\n",
    "            # Skip this term in calculation of probabilities\n",
    "            continue\n",
    "        else:\n",
    "            # Usual definition of NB probabilities\n",
    "            log_probs[\"spam\"] += math.log(wordcounts['spam'][word] / terms_spam)\n",
    "            log_probs[\"ham\"] += math.log(wordcounts['ham'][word] / terms_ham)\n",
    "\n",
    "    # Classify\n",
    "    predicted_label = \"1\" if log_probs[\"spam\"] > log_probs[\"ham\"] else \"0\"\n",
    "    # Normalize probabilities for output, prevent overflow\n",
    "    if log_probs[\"ham\"] - log_probs[\"spam\"] > 700:\n",
    "            probs_spam = 0\n",
    "    else:\n",
    "        probs_spam = 1 / (1 + math.exp(log_probs[\"ham\"] - log_probs[\"spam\"]))\n",
    "    probs_ham = 1 - probs_spam\n",
    "    \n",
    "    # Output (DocID, label, predicted label, p_spam, p_ham, zero_spam, zero_ham)\n",
    "    print '\\t'.join([doc_id, label, predicted_label, \n",
    "                     str(probs_spam), str(probs_ham),\n",
    "                     str(zero_spam), str(zero_ham)])"
   ]
  },
  {
   "cell_type": "code",
   "execution_count": 134,
   "metadata": {
    "collapsed": true
   },
   "outputs": [],
   "source": [
    "!chmod a+x ~/mapper_classify.py"
   ]
  },
  {
   "cell_type": "code",
   "execution_count": 96,
   "metadata": {
    "collapsed": false
   },
   "outputs": [
    {
     "name": "stdout",
     "output_type": "stream",
     "text": [
      "16/01/24 13:53:07 WARN util.NativeCodeLoader: Unable to load native-hadoop library for your platform... using builtin-java classes where applicable\n",
      "16/01/24 13:53:08 WARN hdfs.DFSClient: DFSInputStream has been closed already\n"
     ]
    }
   ],
   "source": [
    "# Transfer results from 1st MR job to a local directory\n",
    "!hdfs dfs -get \"/user/konniam/week_02/hw_2_3_output/part-00000\" ~/wordcounts_2_3.txt"
   ]
  },
  {
   "cell_type": "code",
   "execution_count": 122,
   "metadata": {
    "collapsed": false
   },
   "outputs": [
    {
     "name": "stdout",
     "output_type": "stream",
     "text": [
      "16/01/24 15:04:59 WARN streaming.StreamJob: -file option is deprecated, please use generic option -files instead.\n",
      "16/01/24 15:04:59 WARN util.NativeCodeLoader: Unable to load native-hadoop library for your platform... using builtin-java classes where applicable\n",
      "packageJobJar: [/Users/InfernoIX/wordcounts_2_3.txt, /var/folders/l8/h51_59852qscq403fs6q0xlh0000gn/T/hadoop-unjar4598644515510618160/] [] /var/folders/l8/h51_59852qscq403fs6q0xlh0000gn/T/streamjob3052404937059671916.jar tmpDir=null\n",
      "16/01/24 15:05:01 INFO client.RMProxy: Connecting to ResourceManager at /0.0.0.0:8032\n",
      "16/01/24 15:05:01 INFO client.RMProxy: Connecting to ResourceManager at /0.0.0.0:8032\n",
      "16/01/24 15:05:02 INFO mapred.FileInputFormat: Total input paths to process : 1\n",
      "16/01/24 15:05:03 INFO mapreduce.JobSubmitter: number of splits:2\n",
      "16/01/24 15:05:03 INFO mapreduce.JobSubmitter: Submitting tokens for job: job_1453657675452_0008\n",
      "16/01/24 15:05:03 INFO impl.YarnClientImpl: Submitted application application_1453657675452_0008\n",
      "16/01/24 15:05:03 INFO mapreduce.Job: The url to track the job: http://Konniams-MacBook-Air.local:8088/proxy/application_1453657675452_0008/\n",
      "16/01/24 15:05:03 INFO mapreduce.Job: Running job: job_1453657675452_0008\n",
      "16/01/24 15:05:14 INFO mapreduce.Job: Job job_1453657675452_0008 running in uber mode : false\n",
      "16/01/24 15:05:14 INFO mapreduce.Job:  map 0% reduce 0%\n",
      "16/01/24 15:05:24 INFO mapreduce.Job:  map 100% reduce 0%\n",
      "16/01/24 15:05:25 INFO mapreduce.Job: Job job_1453657675452_0008 completed successfully\n",
      "16/01/24 15:05:25 INFO mapreduce.Job: Counters: 30\n",
      "\tFile System Counters\n",
      "\t\tFILE: Number of bytes read=0\n",
      "\t\tFILE: Number of bytes written=236380\n",
      "\t\tFILE: Number of read operations=0\n",
      "\t\tFILE: Number of large read operations=0\n",
      "\t\tFILE: Number of write operations=0\n",
      "\t\tHDFS: Number of bytes read=217192\n",
      "\t\tHDFS: Number of bytes written=5600\n",
      "\t\tHDFS: Number of read operations=10\n",
      "\t\tHDFS: Number of large read operations=0\n",
      "\t\tHDFS: Number of write operations=4\n",
      "\tJob Counters \n",
      "\t\tLaunched map tasks=2\n",
      "\t\tData-local map tasks=2\n",
      "\t\tTotal time spent by all maps in occupied slots (ms)=17437\n",
      "\t\tTotal time spent by all reduces in occupied slots (ms)=0\n",
      "\t\tTotal time spent by all map tasks (ms)=17437\n",
      "\t\tTotal vcore-seconds taken by all map tasks=17437\n",
      "\t\tTotal megabyte-seconds taken by all map tasks=17855488\n",
      "\tMap-Reduce Framework\n",
      "\t\tMap input records=100\n",
      "\t\tMap output records=100\n",
      "\t\tInput split bytes=224\n",
      "\t\tSpilled Records=0\n",
      "\t\tFailed Shuffles=0\n",
      "\t\tMerged Map outputs=0\n",
      "\t\tGC time elapsed (ms)=258\n",
      "\t\tCPU time spent (ms)=0\n",
      "\t\tPhysical memory (bytes) snapshot=0\n",
      "\t\tVirtual memory (bytes) snapshot=0\n",
      "\t\tTotal committed heap usage (bytes)=186646528\n",
      "\tFile Input Format Counters \n",
      "\t\tBytes Read=216968\n",
      "\tFile Output Format Counters \n",
      "\t\tBytes Written=5600\n",
      "16/01/24 15:05:25 INFO streaming.StreamJob: Output directory: /user/konniam/week_02/hw_2_3_output_classify\n"
     ]
    }
   ],
   "source": [
    "# Run MapReduce job\n",
    "# Map-only job. Pass in text file with wordcounts\n",
    "!hadoop jar hadoop-streaming-2.7.1.jar \\\n",
    "-D mapreduce.job.reduces=0 \\\n",
    "-mapper ~/mapper_classify.py \\\n",
    "-input /user/konniam/week_02/enronemail_1h.txt \\\n",
    "-output /user/konniam/week_02/hw_2_3_output_classify \\\n",
    "-file ~/wordcounts_2_3.txt"
   ]
  },
  {
   "cell_type": "code",
   "execution_count": 136,
   "metadata": {
    "collapsed": false
   },
   "outputs": [
    {
     "name": "stdout",
     "output_type": "stream",
     "text": [
      "16/01/24 15:14:52 WARN util.NativeCodeLoader: Unable to load native-hadoop library for your platform... using builtin-java classes where applicable\n",
      "0011.2003-12-18.gp\t1\t1\t0.999999989025\t1.09750638577e-08\t0\t37\n",
      "0011.2004-08-01.bg\t1\t1\t0.999999956896\t4.3104383729e-08\t0\t37\n",
      "0012.1999-12-14.farmer\t0\t0\t1.51562851903e-45\t1.0\t142\t0\n",
      "0012.1999-12-14.kaminski\t0\t0\t3.07583767617e-35\t1.0\t62\t0\n",
      "0012.2000-01-17.beck\t0\t0\t4.96321540941e-110\t1.0\t156\t0\n",
      "0012.2000-06-08.lokay\t0\t1\t0.999999997354\t2.64601918154e-09\t31\t0\n",
      "0012.2001-02-09.kitchen\t0\t0\t7.99826839655e-06\t0.999992001732\t20\t0\n",
      "0012.2003-12-19.gp\t1\t1\t0.996915425172\t0.00308457482785\t0\t9\n",
      "0013.1999-12-14.farmer\t0\t0\t3.9936291718e-25\t1.0\t69\t0\n",
      "0013.1999-12-14.kaminski\t0\t0\t3.51968974018e-38\t1.0\t67\t0\n",
      "cat: Unable to write to output stream.\n"
     ]
    }
   ],
   "source": [
    "# Examine output (format: DocID, label, predicted_label, zero_spam, zero_ham)\n",
    "!hdfs dfs -cat /user/konniam/week_02/hw_2_3_output_classify/part* | head"
   ]
  },
  {
   "cell_type": "markdown",
   "metadata": {},
   "source": [
    "#### 2.3 Error Assessment"
   ]
  },
  {
   "cell_type": "code",
   "execution_count": 132,
   "metadata": {
    "collapsed": false
   },
   "outputs": [
    {
     "name": "stdout",
     "output_type": "stream",
     "text": [
      "16/01/24 15:12:48 WARN util.NativeCodeLoader: Unable to load native-hadoop library for your platform... using builtin-java classes where applicable\r\n"
     ]
    }
   ],
   "source": [
    "!hdfs dfs -cat /user/konniam/week_02/hw_2_3_output_classify/part* > hw_2_3_results.txt"
   ]
  },
  {
   "cell_type": "code",
   "execution_count": 170,
   "metadata": {
    "collapsed": false
   },
   "outputs": [
    {
     "name": "stdout",
     "output_type": "stream",
     "text": [
      "Number of words that hit zero probability for class spam: 4932.\n",
      "Number of words that hit zero probability for class ham: 6447.\n",
      "The training error is 0.11.\n"
     ]
    },
    {
     "data": {
      "image/png": "[encoded data removed]",
      "text/plain": [
       "<matplotlib.figure.Figure at 0x10c9f3590>"
      ]
     },
     "metadata": {},
     "output_type": "display_data"
    }
   ],
   "source": [
    "def hw_2_3_error():\n",
    "    # Parse results\n",
    "    columns = ['docid', 'label', 'preds', 'probs_spam', 'probs_ham', 'zero_spam', 'zero_ham']\n",
    "    df = pd.read_table(\"hw_2_3_results.txt\", header=None, names=columns)\n",
    "    # Print total number of zero probabilities for each class\n",
    "    print \"Number of words that hit zero probability for class spam: {}.\".format(\n",
    "        sum(df['zero_spam']))\n",
    "    print \"Number of words that hit zero probability for class ham: {}.\".format(\n",
    "        sum(df['zero_ham']))\n",
    "    # Calculate error rate and output\n",
    "    print \"The training error is {}.\".format(np.mean(df['label'] != df['preds']))\n",
    "    # Plot histograms\n",
    "    plt.figure(figsize=(12,12))\n",
    "    plt.subplot(211)\n",
    "    sns.distplot(df['probs_spam'], bins = 20, kde=None)\n",
    "    plt.subplot(212)\n",
    "    sns.distplot(df['probs_ham'], bins = 20, kde=None)\n",
    "\n",
    "hw_2_3_error()"
   ]
  },
  {
   "cell_type": "markdown",
   "metadata": {},
   "source": [
    "#### 2.3 Response"
   ]
  },
  {
   "cell_type": "markdown",
   "metadata": {},
   "source": [
    "The error (without smoothing) is 11%, which is pretty bad considering we have over 7000 parameters for 100 data points. 4932 and 6447 terms hit zero probabilities for either spam or ham, and are skipped in the NB calculation both both classes.  \n",
    "  \n",
    "The plots of the probabilities show a very bimodal distribution, with significant density near 0 or 1, showing that NB is usually very confident in its predictions."
   ]
  },
  {
   "cell_type": "markdown",
   "metadata": {},
   "source": [
    "### HW2.4 \n",
    "Repeat HW2.3 with the following modification: use Laplace plus-one smoothing. Compare the misclassifcation error rates for 2.3 versus 2.4 and explain the differences.\n",
    "\n",
    "For a quick reference on the construction of the Multinomial NAIVE BAYES classifier that you will code,\n",
    "please consult the \"Document Classification\" section of the following wikipedia page:\n",
    "\n",
    "https://en.wikipedia.org/wiki/Naive_Bayes_classifier#Document_classification\n",
    "\n",
    "OR the original paper by the curators of the Enron email data:\n",
    "\n",
    "http://www.aueb.gr/users/ion/docs/ceas2006_paper.pdf"
   ]
  },
  {
   "cell_type": "markdown",
   "metadata": {},
   "source": [
    "#### 2.4 Strategy\n",
    "The classifier with Laplace smoothing can use the wordcounts created in the 1st MR job from 2.3. All we have to do is to modify how we calculate how probabilities."
   ]
  },
  {
   "cell_type": "markdown",
   "metadata": {},
   "source": [
    "#### 2.4 Classification"
   ]
  },
  {
   "cell_type": "code",
   "execution_count": 174,
   "metadata": {
    "collapsed": false
   },
   "outputs": [
    {
     "name": "stdout",
     "output_type": "stream",
     "text": [
      "Overwriting /Users/InfernoIX/mapper_classify.py\n"
     ]
    }
   ],
   "source": [
    "%%writefile ~/mapper_classify.py\n",
    "#!/usr/bin/env python\n",
    "## mapper_classify.py\n",
    "## Author: Konniam Chan\n",
    "## Description: classification (with Laplace smoothing) mapper code for HW2.4\n",
    "from __future__ import division\n",
    "import sys\n",
    "import re\n",
    "import string\n",
    "import math\n",
    "from collections import defaultdict\n",
    "\n",
    "# Map from integer label to word label\n",
    "label_map = {\"1\":\"spam\", \"0\":\"ham\"}\n",
    "# Regex split objects with specified delimiters (space, period, comma)\n",
    "regex_beg = re.compile(r'^[\\s.,\"]+')\n",
    "regex_end = re.compile(r'[\\s.,\"]+$')\n",
    "regex_split = re.compile(r'[\\s.,]+')\n",
    "\n",
    "# Load wordcounts from 2.3 in memory\n",
    "wordcounts = {\"spam\": defaultdict(int), \"ham\": defaultdict(int)}\n",
    "with open(\"wordcounts_2_3.txt\", \"r\") as f:\n",
    "    for line in f:\n",
    "        word, label, count = line.strip().split(\"\\t\")\n",
    "        wordcounts[label][word] = int(count)\n",
    "# Calculate total number of terms\n",
    "terms_spam = sum(wordcounts['spam'].values())\n",
    "terms_ham = sum(wordcounts['ham'].values())\n",
    "# Calculate priors and size of vocab\n",
    "prior_spam = wordcounts['spam']['*numdocs'] / (wordcounts['spam']['*numdocs'] + wordcounts['ham']['*numdocs'])\n",
    "prior_ham = 1 - prior_spam\n",
    "vocab_size = len(set(wordcounts['spam']).union(set(wordcounts['ham'])))\n",
    "\n",
    "# Process each document\n",
    "for line in sys.stdin:\n",
    "    line = line.strip().lower()\n",
    "    # Some lines have missing subjects\n",
    "    if len(line.split(\"\\t\")) == 4:\n",
    "        doc_id, label, subject, body = line.split(\"\\t\")\n",
    "    else:\n",
    "        subject = \"na\"\n",
    "        doc_id, label, body = line.split(\"\\t\")\n",
    "    # Remove delimiters at beginning and end of subjects and body\n",
    "    subject = regex_beg.sub('', subject)\n",
    "    subject = regex_end.sub('', subject)\n",
    "    body = regex_beg.sub('', body)\n",
    "    body = regex_end.sub('', body)\n",
    "    # Split into words\n",
    "    words = regex_split.split(subject + \" \" + body)\n",
    "    \n",
    "    # Initialize probabilities with priors\n",
    "    log_probs = {\"spam\": math.log(prior_spam), \"ham\": math.log(prior_ham)}\n",
    "    # Iterate through each word and add probabilities\n",
    "    for word in words:\n",
    "        # Laplace smoothing\n",
    "        log_probs[\"spam\"] += math.log((wordcounts['spam'][word] + 1) / \n",
    "                                      (terms_spam + vocab_size))\n",
    "        log_probs[\"ham\"] += math.log((wordcounts['ham'][word] + 1) / \n",
    "                                     (terms_ham + vocab_size))\n",
    "\n",
    "    # Classify\n",
    "    predicted_label = \"1\" if log_probs[\"spam\"] > log_probs[\"ham\"] else \"0\"\n",
    "    # Normalize probabilities for output, prevent overflow\n",
    "    if log_probs[\"ham\"] - log_probs[\"spam\"] > 700:\n",
    "            probs_spam = 0\n",
    "    else:\n",
    "        probs_spam = 1 / (1 + math.exp(log_probs[\"ham\"] - log_probs[\"spam\"]))\n",
    "    probs_ham = 1 - probs_spam\n",
    "    \n",
    "    # Output (DocID, label, predicted label, p_spam, p_ham)\n",
    "    print '\\t'.join([doc_id, label, predicted_label, \n",
    "                     str(probs_spam), str(probs_ham)])"
   ]
  },
  {
   "cell_type": "code",
   "execution_count": 176,
   "metadata": {
    "collapsed": false
   },
   "outputs": [
    {
     "name": "stdout",
     "output_type": "stream",
     "text": [
      "16/01/24 16:42:15 WARN streaming.StreamJob: -file option is deprecated, please use generic option -files instead.\n",
      "16/01/24 16:42:15 WARN util.NativeCodeLoader: Unable to load native-hadoop library for your platform... using builtin-java classes where applicable\n",
      "packageJobJar: [/Users/InfernoIX/wordcounts_2_3.txt, /var/folders/l8/h51_59852qscq403fs6q0xlh0000gn/T/hadoop-unjar5566856366020640196/] [] /var/folders/l8/h51_59852qscq403fs6q0xlh0000gn/T/streamjob3587086667827603933.jar tmpDir=null\n",
      "16/01/24 16:42:17 INFO client.RMProxy: Connecting to ResourceManager at /0.0.0.0:8032\n",
      "16/01/24 16:42:17 INFO client.RMProxy: Connecting to ResourceManager at /0.0.0.0:8032\n",
      "16/01/24 16:42:18 INFO mapred.FileInputFormat: Total input paths to process : 1\n",
      "16/01/24 16:42:18 INFO mapreduce.JobSubmitter: number of splits:2\n",
      "16/01/24 16:42:18 INFO mapreduce.JobSubmitter: Submitting tokens for job: job_1453657675452_0010\n",
      "16/01/24 16:42:19 INFO impl.YarnClientImpl: Submitted application application_1453657675452_0010\n",
      "16/01/24 16:42:19 INFO mapreduce.Job: The url to track the job: http://Konniams-MacBook-Air.local:8088/proxy/application_1453657675452_0010/\n",
      "16/01/24 16:42:19 INFO mapreduce.Job: Running job: job_1453657675452_0010\n",
      "16/01/24 16:42:27 INFO mapreduce.Job: Job job_1453657675452_0010 running in uber mode : false\n",
      "16/01/24 16:42:27 INFO mapreduce.Job:  map 0% reduce 0%\n",
      "16/01/24 16:42:37 INFO mapreduce.Job:  map 100% reduce 0%\n",
      "16/01/24 16:42:38 INFO mapreduce.Job: Job job_1453657675452_0010 completed successfully\n",
      "16/01/24 16:42:38 INFO mapreduce.Job: Counters: 30\n",
      "\tFile System Counters\n",
      "\t\tFILE: Number of bytes read=0\n",
      "\t\tFILE: Number of bytes written=236380\n",
      "\t\tFILE: Number of read operations=0\n",
      "\t\tFILE: Number of large read operations=0\n",
      "\t\tFILE: Number of write operations=0\n",
      "\t\tHDFS: Number of bytes read=217192\n",
      "\t\tHDFS: Number of bytes written=4474\n",
      "\t\tHDFS: Number of read operations=10\n",
      "\t\tHDFS: Number of large read operations=0\n",
      "\t\tHDFS: Number of write operations=4\n",
      "\tJob Counters \n",
      "\t\tLaunched map tasks=2\n",
      "\t\tData-local map tasks=2\n",
      "\t\tTotal time spent by all maps in occupied slots (ms)=16122\n",
      "\t\tTotal time spent by all reduces in occupied slots (ms)=0\n",
      "\t\tTotal time spent by all map tasks (ms)=16122\n",
      "\t\tTotal vcore-seconds taken by all map tasks=16122\n",
      "\t\tTotal megabyte-seconds taken by all map tasks=16508928\n",
      "\tMap-Reduce Framework\n",
      "\t\tMap input records=100\n",
      "\t\tMap output records=100\n",
      "\t\tInput split bytes=224\n",
      "\t\tSpilled Records=0\n",
      "\t\tFailed Shuffles=0\n",
      "\t\tMerged Map outputs=0\n",
      "\t\tGC time elapsed (ms)=324\n",
      "\t\tCPU time spent (ms)=0\n",
      "\t\tPhysical memory (bytes) snapshot=0\n",
      "\t\tVirtual memory (bytes) snapshot=0\n",
      "\t\tTotal committed heap usage (bytes)=187170816\n",
      "\tFile Input Format Counters \n",
      "\t\tBytes Read=216968\n",
      "\tFile Output Format Counters \n",
      "\t\tBytes Written=4474\n",
      "16/01/24 16:42:38 INFO streaming.StreamJob: Output directory: /user/konniam/week_02/hw_2_4_output_classify\n"
     ]
    }
   ],
   "source": [
    "# Run MapReduce job\n",
    "# Map-only job. Pass in text file with wordcounts\n",
    "!hadoop jar hadoop-streaming-2.7.1.jar \\\n",
    "-D mapreduce.job.reduces=0 \\\n",
    "-mapper ~/mapper_classify.py \\\n",
    "-input /user/konniam/week_02/enronemail_1h.txt \\\n",
    "-output /user/konniam/week_02/hw_2_4_output_classify \\\n",
    "-file ~/wordcounts_2_3.txt"
   ]
  },
  {
   "cell_type": "code",
   "execution_count": 177,
   "metadata": {
    "collapsed": false,
    "scrolled": true
   },
   "outputs": [
    {
     "name": "stdout",
     "output_type": "stream",
     "text": [
      "16/01/24 16:42:44 WARN util.NativeCodeLoader: Unable to load native-hadoop library for your platform... using builtin-java classes where applicable\n",
      "0011.2003-12-18.gp\t1\t1\t1.0\t0.0\n",
      "0011.2004-08-01.bg\t1\t1\t1.0\t0.0\n",
      "0012.1999-12-14.farmer\t0\t0\t3.04906108027e-156\t1.0\n",
      "0012.1999-12-14.kaminski\t0\t0\t2.5675875679e-107\t1.0\n",
      "0012.2000-01-17.beck\t0\t0\t8.15760689166e-266\t1.0\n",
      "0012.2000-06-08.lokay\t0\t0\t4.71892179913e-09\t0.999999995281\n",
      "0012.2001-02-09.kitchen\t0\t0\t2.59286926427e-14\t1.0\n",
      "0012.2003-12-19.gp\t1\t1\t0.99999901192\t9.88080343989e-07\n",
      "0013.1999-12-14.farmer\t0\t0\t1.94778405505e-69\t1.0\n",
      "0013.1999-12-14.kaminski\t0\t0\t3.59263723869e-120\t1.0\n",
      "cat: Unable to write to output stream.\n"
     ]
    }
   ],
   "source": [
    "!hdfs dfs -cat /user/konniam/week_02/hw_2_4_output_classify/part* | head"
   ]
  },
  {
   "cell_type": "code",
   "execution_count": 178,
   "metadata": {
    "collapsed": false,
    "scrolled": true
   },
   "outputs": [
    {
     "name": "stdout",
     "output_type": "stream",
     "text": [
      "16/01/24 16:42:53 WARN util.NativeCodeLoader: Unable to load native-hadoop library for your platform... using builtin-java classes where applicable\r\n"
     ]
    }
   ],
   "source": [
    "# Copy file back to local directory\n",
    "!hdfs dfs -cat /user/konniam/week_02/hw_2_4_output_classify/part* > hw_2_4_results.txt"
   ]
  },
  {
   "cell_type": "markdown",
   "metadata": {},
   "source": [
    "#### 2.4 Error Assessment"
   ]
  },
  {
   "cell_type": "code",
   "execution_count": 179,
   "metadata": {
    "collapsed": false
   },
   "outputs": [
    {
     "name": "stdout",
     "output_type": "stream",
     "text": [
      "The training error is 0.0.\n"
     ]
    },
    {
     "data": {
      "image/png": "[encoded data removed]",
      "text/plain": [
       "<matplotlib.figure.Figure at 0x10cc98a50>"
      ]
     },
     "metadata": {},
     "output_type": "display_data"
    }
   ],
   "source": [
    "def hw_2_4_error():\n",
    "    # Parse results\n",
    "    columns = ['docid', 'label', 'preds', 'probs_spam', 'probs_ham']\n",
    "    df = pd.read_table(\"hw_2_4_results.txt\", header=None, names=columns)    \n",
    "    # Calculate error rate and output\n",
    "    print \"The training error is {}.\".format(np.mean(df['label'] != df['preds']))\n",
    "    # Plot histograms\n",
    "    plt.figure(figsize=(12,12))\n",
    "    plt.subplot(211)\n",
    "    sns.distplot(df['probs_spam'], bins = 20, kde=None)\n",
    "    plt.subplot(212)\n",
    "    sns.distplot(df['probs_ham'], bins = 20, kde=None)\n",
    "\n",
    "hw_2_4_error()"
   ]
  },
  {
   "cell_type": "markdown",
   "metadata": {},
   "source": [
    "#### 2.4 Response"
   ]
  },
  {
   "cell_type": "markdown",
   "metadata": {},
   "source": [
    "With Laplace smoothing, the model produced a training error of 0%, a drop from the previous erorr of 11%. In the case without smoothing, we skipped over many terms that don't have conditional probabilities in one class. However, such terms are valuable precisely because of this. For instance, \"lottery\" might have appeared 20 times in spam but not ham. Thus, \"lottery\" is a great predictor of the class. Laplace smoothing allows such terms to be included and we expected the in-sample error rate to improve.  \n",
    "  \n",
    "Nonetheless, we should not get too excited about 0% error because we have over 7000 parameters and only 100 examples. There likely is a substantial amount of overfitting and we don't expect the out-of-sample performance to be great."
   ]
  },
  {
   "cell_type": "markdown",
   "metadata": {},
   "source": [
    "### HW2.5.\n",
    "Repeat HW2.4. This time when modeling and classification ignore tokens with a frequency of less than three (3) in the training set. How does it affect the misclassifcation error of learnt naive multinomial Bayesian Classifier on the training dataset:"
   ]
  },
  {
   "cell_type": "markdown",
   "metadata": {},
   "source": [
    "#### 2.5 Strategy\n",
    "Like HW2.4, we can use the wordcount data from the 1st MR job from 2.3. We first change the vocab dictionary in our classifier mapper. Then we'll have to skip these terms in the prediction step."
   ]
  },
  {
   "cell_type": "code",
   "execution_count": 201,
   "metadata": {
    "collapsed": false
   },
   "outputs": [
    {
     "name": "stdout",
     "output_type": "stream",
     "text": [
      "Overwriting /Users/InfernoIX/mapper_classify.py\n"
     ]
    }
   ],
   "source": [
    "%%writefile ~/mapper_classify.py\n",
    "#!/usr/bin/env python\n",
    "## mapper_classify.py\n",
    "## Author: Konniam Chan\n",
    "## Description: classification (with Laplace smoothing, ignore infrequent terms) \n",
    "## mapper code for HW2.5\n",
    "from __future__ import division\n",
    "import sys\n",
    "import re\n",
    "import string\n",
    "import math\n",
    "from collections import defaultdict\n",
    "\n",
    "# Map from integer label to word label\n",
    "label_map = {\"1\":\"spam\", \"0\":\"ham\"}\n",
    "# Regex split objects with specified delimiters (space, period, comma)\n",
    "regex_beg = re.compile(r'^[\\s.,\"]+')\n",
    "regex_end = re.compile(r'[\\s.,\"]+$')\n",
    "regex_split = re.compile(r'[\\s.,]+')\n",
    "\n",
    "# Load wordcounts from 2.3 in memory\n",
    "wordcounts = {\"spam\": defaultdict(int), \"ham\": defaultdict(int)}\n",
    "with open(\"wordcounts_2_3.txt\", \"r\") as f:\n",
    "    for line in f:\n",
    "        word, label, count = line.strip().split(\"\\t\")\n",
    "        wordcounts[label][word] = int(count)\n",
    "# Drop terms with total frequencies less than 3\n",
    "vocab_set = set(wordcounts['spam']).union(set(wordcounts['ham']))\n",
    "for word in vocab_set:\n",
    "    if (wordcounts['spam'][word] + wordcounts['ham'][word]) < 3:\n",
    "        del wordcounts['spam'][word]\n",
    "        del wordcounts['ham'][word]\n",
    "# Update vocabulary after deletion    \n",
    "vocab_set = set(wordcounts['spam']).union(set(wordcounts['ham']))        \n",
    "vocab_size = len(vocab_set)\n",
    "\n",
    "# Calculate total number of terms\n",
    "terms_spam = sum(wordcounts['spam'].values())\n",
    "terms_ham = sum(wordcounts['ham'].values())\n",
    "# Calculate priors and size of vocab\n",
    "prior_spam = wordcounts['spam']['*numdocs'] / (wordcounts['spam']['*numdocs'] + wordcounts['ham']['*numdocs'])\n",
    "prior_ham = 1 - prior_spam\n",
    "\n",
    "\n",
    "# Process each document\n",
    "for line in sys.stdin:\n",
    "    line = line.strip().lower()\n",
    "    # Some lines have missing subjects\n",
    "    if len(line.split(\"\\t\")) == 4:\n",
    "        doc_id, label, subject, body = line.split(\"\\t\")\n",
    "    else:\n",
    "        subject = \"na\"\n",
    "        doc_id, label, body = line.split(\"\\t\")\n",
    "    # Remove delimiters at beginning and end of subjects and body\n",
    "    subject = regex_beg.sub('', subject)\n",
    "    subject = regex_end.sub('', subject)\n",
    "    body = regex_beg.sub('', body)\n",
    "    body = regex_end.sub('', body)\n",
    "    # Split into words\n",
    "    words = regex_split.split(subject + \" \" + body)\n",
    "    \n",
    "    # Initialize probabilities with priors\n",
    "    log_probs = {\"spam\": math.log(prior_spam), \"ham\": math.log(prior_ham)}\n",
    "    # Iterate through each word and add probabilities\n",
    "    for word in words:\n",
    "        # Skip words that aren't in the vocab (frequencies < 3)\n",
    "        if word not in wordcounts['spam'] and word not in wordcounts['ham']:\n",
    "            continue            \n",
    "        # Laplace smoothing\n",
    "        log_probs[\"spam\"] += math.log((wordcounts['spam'][word] + 1) / \n",
    "                                      (terms_spam + vocab_size))\n",
    "        log_probs[\"ham\"] += math.log((wordcounts['ham'][word] + 1) / \n",
    "                                     (terms_ham + vocab_size))\n",
    "\n",
    "    # Classify\n",
    "    predicted_label = \"1\" if log_probs[\"spam\"] > log_probs[\"ham\"] else \"0\"\n",
    "    # Normalize probabilities for output, prevent overflow\n",
    "    if log_probs[\"ham\"] - log_probs[\"spam\"] > 700:\n",
    "            probs_spam = 0\n",
    "    else:\n",
    "        probs_spam = 1 / (1 + math.exp(log_probs[\"ham\"] - log_probs[\"spam\"]))\n",
    "    probs_ham = 1 - probs_spam\n",
    "    \n",
    "    # Output (DocID, label, predicted label, p_spam, p_ham)\n",
    "    print '\\t'.join([doc_id, label, predicted_label, \n",
    "                     str(probs_spam), str(probs_ham)])"
   ]
  },
  {
   "cell_type": "code",
   "execution_count": 203,
   "metadata": {
    "collapsed": false
   },
   "outputs": [
    {
     "name": "stdout",
     "output_type": "stream",
     "text": [
      "16/01/24 17:55:22 WARN streaming.StreamJob: -file option is deprecated, please use generic option -files instead.\n",
      "16/01/24 17:55:23 WARN util.NativeCodeLoader: Unable to load native-hadoop library for your platform... using builtin-java classes where applicable\n",
      "packageJobJar: [/Users/InfernoIX/wordcounts_2_3.txt, /var/folders/l8/h51_59852qscq403fs6q0xlh0000gn/T/hadoop-unjar5716633767149479767/] [] /var/folders/l8/h51_59852qscq403fs6q0xlh0000gn/T/streamjob2636118730995460103.jar tmpDir=null\n",
      "16/01/24 17:55:24 INFO client.RMProxy: Connecting to ResourceManager at /0.0.0.0:8032\n",
      "16/01/24 17:55:25 INFO client.RMProxy: Connecting to ResourceManager at /0.0.0.0:8032\n",
      "16/01/24 17:55:26 INFO mapred.FileInputFormat: Total input paths to process : 1\n",
      "16/01/24 17:55:26 INFO mapreduce.JobSubmitter: number of splits:2\n",
      "16/01/24 17:55:26 INFO mapreduce.JobSubmitter: Submitting tokens for job: job_1453657675452_0012\n",
      "16/01/24 17:55:27 INFO impl.YarnClientImpl: Submitted application application_1453657675452_0012\n",
      "16/01/24 17:55:27 INFO mapreduce.Job: The url to track the job: http://Konniams-MacBook-Air.local:8088/proxy/application_1453657675452_0012/\n",
      "16/01/24 17:55:27 INFO mapreduce.Job: Running job: job_1453657675452_0012\n",
      "16/01/24 17:55:36 INFO mapreduce.Job: Job job_1453657675452_0012 running in uber mode : false\n",
      "16/01/24 17:55:36 INFO mapreduce.Job:  map 0% reduce 0%\n",
      "16/01/24 17:55:46 INFO mapreduce.Job:  map 100% reduce 0%\n",
      "16/01/24 17:55:47 INFO mapreduce.Job: Job job_1453657675452_0012 completed successfully\n",
      "16/01/24 17:55:47 INFO mapreduce.Job: Counters: 30\n",
      "\tFile System Counters\n",
      "\t\tFILE: Number of bytes read=0\n",
      "\t\tFILE: Number of bytes written=236380\n",
      "\t\tFILE: Number of read operations=0\n",
      "\t\tFILE: Number of large read operations=0\n",
      "\t\tFILE: Number of write operations=0\n",
      "\t\tHDFS: Number of bytes read=217192\n",
      "\t\tHDFS: Number of bytes written=4739\n",
      "\t\tHDFS: Number of read operations=10\n",
      "\t\tHDFS: Number of large read operations=0\n",
      "\t\tHDFS: Number of write operations=4\n",
      "\tJob Counters \n",
      "\t\tLaunched map tasks=2\n",
      "\t\tData-local map tasks=2\n",
      "\t\tTotal time spent by all maps in occupied slots (ms)=15923\n",
      "\t\tTotal time spent by all reduces in occupied slots (ms)=0\n",
      "\t\tTotal time spent by all map tasks (ms)=15923\n",
      "\t\tTotal vcore-seconds taken by all map tasks=15923\n",
      "\t\tTotal megabyte-seconds taken by all map tasks=16305152\n",
      "\tMap-Reduce Framework\n",
      "\t\tMap input records=100\n",
      "\t\tMap output records=100\n",
      "\t\tInput split bytes=224\n",
      "\t\tSpilled Records=0\n",
      "\t\tFailed Shuffles=0\n",
      "\t\tMerged Map outputs=0\n",
      "\t\tGC time elapsed (ms)=321\n",
      "\t\tCPU time spent (ms)=0\n",
      "\t\tPhysical memory (bytes) snapshot=0\n",
      "\t\tVirtual memory (bytes) snapshot=0\n",
      "\t\tTotal committed heap usage (bytes)=187695104\n",
      "\tFile Input Format Counters \n",
      "\t\tBytes Read=216968\n",
      "\tFile Output Format Counters \n",
      "\t\tBytes Written=4739\n",
      "16/01/24 17:55:47 INFO streaming.StreamJob: Output directory: /user/konniam/week_02/hw_2_5_output_classify\n"
     ]
    }
   ],
   "source": [
    "# Run MapReduce job\n",
    "# Map-only job. Pass in text file with wordcounts\n",
    "!hadoop jar hadoop-streaming-2.7.1.jar \\\n",
    "-D mapreduce.job.reduces=0 \\\n",
    "-mapper ~/mapper_classify.py \\\n",
    "-input /user/konniam/week_02/enronemail_1h.txt \\\n",
    "-output /user/konniam/week_02/hw_2_5_output_classify \\\n",
    "-file ~/wordcounts_2_3.txt"
   ]
  },
  {
   "cell_type": "code",
   "execution_count": 204,
   "metadata": {
    "collapsed": false,
    "scrolled": true
   },
   "outputs": [
    {
     "name": "stdout",
     "output_type": "stream",
     "text": [
      "16/01/24 17:56:09 WARN util.NativeCodeLoader: Unable to load native-hadoop library for your platform... using builtin-java classes where applicable\n",
      "0011.2003-12-18.gp\t1\t1\t1.0\t0.0\n",
      "0011.2004-08-01.bg\t1\t1\t1.0\t5.10702591328e-15\n",
      "0012.1999-12-14.farmer\t0\t0\t6.56589297435e-128\t1.0\n",
      "0012.1999-12-14.kaminski\t0\t0\t1.43801209308e-101\t1.0\n",
      "0012.2000-01-17.beck\t0\t0\t6.30592690511e-270\t1.0\n",
      "0012.2000-06-08.lokay\t0\t1\t0.827662523121\t0.172337476879\n",
      "0012.2001-02-09.kitchen\t0\t0\t1.40530534624e-08\t0.999999985947\n",
      "0012.2003-12-19.gp\t1\t1\t0.999972184144\t2.78158562613e-05\n",
      "0013.1999-12-14.farmer\t0\t0\t4.39797857303e-54\t1.0\n",
      "0013.1999-12-14.kaminski\t0\t0\t9.27075827653e-116\t1.0\n",
      "cat: Unable to write to output stream.\n"
     ]
    }
   ],
   "source": [
    "!hdfs dfs -cat /user/konniam/week_02/hw_2_5_output_classify/part* | head"
   ]
  },
  {
   "cell_type": "code",
   "execution_count": 205,
   "metadata": {
    "collapsed": false,
    "scrolled": true
   },
   "outputs": [
    {
     "name": "stdout",
     "output_type": "stream",
     "text": [
      "16/01/24 17:56:17 WARN util.NativeCodeLoader: Unable to load native-hadoop library for your platform... using builtin-java classes where applicable\r\n"
     ]
    }
   ],
   "source": [
    "# Copy file back to local directory\n",
    "!hdfs dfs -cat /user/konniam/week_02/hw_2_5_output_classify/part* > hw_2_5_results.txt"
   ]
  },
  {
   "cell_type": "markdown",
   "metadata": {},
   "source": [
    "#### 2.5 Error Assessment"
   ]
  },
  {
   "cell_type": "code",
   "execution_count": 206,
   "metadata": {
    "collapsed": false
   },
   "outputs": [
    {
     "name": "stdout",
     "output_type": "stream",
     "text": [
      "The training error is 0.04.\n"
     ]
    },
    {
     "data": {
      "image/png": "[encoded data removed]",
      "text/plain": [
       "<matplotlib.figure.Figure at 0x10c31af10>"
      ]
     },
     "metadata": {},
     "output_type": "display_data"
    }
   ],
   "source": [
    "def hw_2_5_error():\n",
    "    # Parse results\n",
    "    columns = ['docid', 'label', 'preds', 'probs_spam', 'probs_ham']\n",
    "    df = pd.read_table(\"hw_2_5_results.txt\", header=None, names=columns)    \n",
    "    # Calculate error rate and output\n",
    "    print \"The training error is {}.\".format(np.mean(df['label'] != df['preds']))\n",
    "    # Plot histograms\n",
    "    plt.figure(figsize=(12,12))\n",
    "    plt.subplot(211)\n",
    "    sns.distplot(df['probs_spam'], bins = 20, kde=None)\n",
    "    plt.subplot(212)\n",
    "    sns.distplot(df['probs_ham'], bins = 20, kde=None)\n",
    "\n",
    "hw_2_5_error()"
   ]
  },
  {
   "cell_type": "markdown",
   "metadata": {},
   "source": [
    "Our training error went to 4% (up from 0% in HW2.4). By limiting our vocabulary to words with frequencies >= 3 (in each class), we effectively performed feature selection and lowered our model complexity due to the fewer number of parameters. As we see on the learning curve below (taken from Elements of Statistical Learning), the in-sample-error always drops as model complexity increases. In HW2.5, we traversed backwards on the learning curve from HW2.4. We expect our error to increase, matching our results. Nonetheless, we should keep in mind that we still have over 1500 features, which are still way too many for 100 examples. Our generalization likely won't be great because of the amount of overfitting.  \n",
    "![learning](learning_curve.png)"
   ]
  },
  {
   "cell_type": "markdown",
   "metadata": {},
   "source": [
    "### HW2.6 Benchmark your code with the Python SciKit-Learn implementation of the multinomial Naive Bayes algorithm\n",
    "\n",
    "It always a good idea to benchmark your solutions against publicly available libraries such as SciKit-Learn, The Machine Learning toolkit available in Python. In this exercise, we benchmark ourselves against the SciKit-Learn implementation of multinomial Naive Bayes.  For more information on this implementation see: http://scikit-learn.org/stable/modules/naive_bayes.html more  \n",
    "\n",
    "In this exercise, please complete the following:\n",
    "\n",
    "- Run the Multinomial Naive Bayes algorithm (using default settings) from SciKit-Learn over the same training data used in HW2.5 and report the misclassification error (please note some data preparation might be needed to get the Multinomial Naive Bayes algorithm from SkiKit-Learn to run over this dataset)\n",
    "- Prepare a table to present your results, where rows correspond to approach used (SkiKit-Learn versus your Hadoop implementation) and the column presents the training misclassification error\n",
    "- Explain/justify any differences in terms of training error rates over the dataset in HW2.5 between your Multinomial Naive Bayes implementation (in Map Reduce) versus the Multinomial Naive Bayes implementation in SciKit-Learn "
   ]
  },
  {
   "cell_type": "code",
   "execution_count": 2,
   "metadata": {
    "collapsed": true
   },
   "outputs": [],
   "source": [
    "# Import sklearn packages\n",
    "from sklearn.naive_bayes import MultinomialNB\n",
    "from sklearn.naive_bayes import BernoulliNB\n",
    "from sklearn.feature_extraction.text import CountVectorizer"
   ]
  },
  {
   "cell_type": "code",
   "execution_count": 425,
   "metadata": {
    "collapsed": false
   },
   "outputs": [
    {
     "name": "stdout",
     "output_type": "stream",
     "text": [
      "Vocab size: 1357.\n",
      "The classification error is: 0.04.\n"
     ]
    }
   ],
   "source": [
    "def sklearn_NB(NB_model, vectorizer):\n",
    "    '''\n",
    "    Runs sklearn NB implentation on enron emails, using input choice of NB model and vectorizer\n",
    "    '''\n",
    "    # Load text file\n",
    "    doc_ids, labels, content = [], [], []\n",
    "    with open(\"enronemail_1h.txt\", \"r\") as f:\n",
    "        for line in f:\n",
    "            # Some lines have missing subjects\n",
    "            if len(line.split(\"\\t\")) == 4:\n",
    "                doc_id, label, subject, body = line.split(\"\\t\")\n",
    "            else:\n",
    "                subject = \"na\"\n",
    "                doc_id, label, body = line.split(\"\\t\")\n",
    "            # Put into array format\n",
    "            doc_ids.append(doc_id)\n",
    "            labels.append(int(label))\n",
    "            content.append(subject + \" \" + body)\n",
    "    # Vectorize train_data\n",
    "    content_vector = vectorizer.fit_transform(content)\n",
    "    print \"Vocab size: {}.\".format(content_vector.shape[1])\n",
    "    # Classify with sklearn NB model\n",
    "    NB_model.fit(content_vector, labels)\n",
    "    preds = NB_model.predict(content_vector)\n",
    "    print \"The classification error is: {}.\".format(np.mean(np.array(labels) != preds))\n",
    "\n",
    "# MultinomialNB, using terms of frequencies >= 3\n",
    "sklearn_NB(MultinomialNB(), CountVectorizer(min_df=3))"
   ]
  },
  {
   "cell_type": "markdown",
   "metadata": {},
   "source": [
    "#### 2.6 Response\n",
    "\n",
    "| Model                                                                      | Training Error   |\n",
    "|----------------------------------------------------------------------------|------------------|\n",
    "| Multinomial NB, MapReduce implementation (HW2.5)                           | 0.04             |\n",
    "| Multinomial NB, Scikit-Learn Implementation (HW2.6)                        | 0.04             |"
   ]
  },
  {
   "cell_type": "markdown",
   "metadata": {},
   "source": [
    "The MapReduce implementation performed the same as the sklearn implementation. The two models use different features. In the MapReduce implementation, we dropped terms with less than 3 occurrences, but kept all punctuations and numbers (besides the period and comma in position as delimiters). The sklearn implementation performed a more restrictive tokenization by removing all punctuation and any length-1 alphanumeric characters. The vocab size is 1357, compared to around 1800 for our MR model.  \n",
    "  \n",
    "From the above learning curve, we would expect the training error for the sklearn implementation to be a little higher. However, it is likely that the extra features that were removed are not predictive of the class and didn't affect training performance."
   ]
  },
  {
   "cell_type": "markdown",
   "metadata": {},
   "source": [
    "### HW 2.6.1 OPTIONAL (note this exercise is a stretch HW and optional)\n",
    "- Run the Bernoulli Naive Bayes algorithm from SciKit-Learn (using default settings) over the same training data used in HW2.6 and report the misclassification error \n",
    "- Discuss the performance differences in terms of misclassification error rates over the dataset in HW2.5 between the  Multinomial Naive Bayes implementation in SciKit-Learn with the  Bernoulli Naive Bayes implementation in SciKit-Learn. Why such big differences. Explain. \n",
    "\n",
    "Which approach to Naive Bayes would you recommend for SPAM detection? Justify your selection."
   ]
  },
  {
   "cell_type": "code",
   "execution_count": 426,
   "metadata": {
    "collapsed": false
   },
   "outputs": [
    {
     "name": "stdout",
     "output_type": "stream",
     "text": [
      "Vocab size: 1357.\n",
      "The classification error is: 0.12.\n"
     ]
    }
   ],
   "source": [
    "# Run 2.6 with Bernoulli NB\n",
    "# BernoulliNB, using terms of frequencies >= 3 and binary features\n",
    "sklearn_NB(BernoulliNB(), CountVectorizer(min_df=3, binary=True))"
   ]
  },
  {
   "cell_type": "markdown",
   "metadata": {},
   "source": [
    "#### 2.6.1 Response\n",
    "\n",
    "| Model                                                                      | Training Error   |\n",
    "|----------------------------------------------------------------------------|------------------|\n",
    "| Multinomial NB, MapReduce implementation (HW2.5)                           | 0.04             |\n",
    "| Multinomial NB, Scikit-Learn Implementation (HW2.6)                        | 0.04             |\n",
    "| Bernoulli NB, Scikit-Learn Implementation (HW2.6.1)                        | 0.12             |"
   ]
  },
  {
   "cell_type": "markdown",
   "metadata": {},
   "source": [
    "The Bernoulli NB model performed the worst, with a 12% error versus 4% for the multinomial models. Multinomial NB represents features as term occurrences, models probability with a multinomial distribution of terms, and only considers terms in the document. Bernoulli NB represents features as a binary vector (of whether a particular term appears in a document), models probability with a Bernoulli distribution, and considers both appearance and non-apperaance of terms in the document. Because Bernoulli NB does not use information about repeated occurrence of a word in a doc, it leaves a lot of information on the table during classification. Multinomial NB uses more information and represents the document in a more nuanced way.  \n",
    "\n",
    "For spam classification in emails, Multinomial NB works better, because multiple occurrences are likely to be important in predicting the class. There is a big difference between \"assistance\" appearing once and \"assistance\" appearing 5 times. Multinomial NB will take the 5 occurrences into account and assigns heavy probability to the spam class. On the other hand, Bernoulli NB only note the appearnce of \"assistance\"."
   ]
  },
  {
   "cell_type": "markdown",
   "metadata": {},
   "source": [
    "### HW2.7 OPTIONAL (note this exercise is a stretch HW and optional)\n",
    "\n",
    "The Enron SPAM data in the following folder enron1-Training-Data-RAW is in raw text form (with subfolders for SPAM and HAM that contain raw email messages in the following form:\n",
    "\n",
    "--- Line 1 contains the subject\n",
    "--- The remaining lines contain the body of the email message.\n",
    "\n",
    "In Python write a script to produce a TSV file called train-Enron-1.txt that has a similar format as the enronemail_1h.txt that you have been using so far. Please pay attend to funky characters and tabs. Check your resulting formated email data in Excel and in Python (e.g., count up the number of fields in each row; the number of SPAM mails and the number of HAM emails). Does each row correspond to an email record with four values? Note: use \"NA\" to denote empty field values."
   ]
  },
  {
   "cell_type": "code",
   "execution_count": 354,
   "metadata": {
    "collapsed": false
   },
   "outputs": [
    {
     "name": "stdout",
     "output_type": "stream",
     "text": [
      "Overwriting enron_merge.py\n"
     ]
    }
   ],
   "source": [
    "%%writefile enron_merge.py\n",
    "#!/usr/bin/env python\n",
    "from __future__ import unicode_literals\n",
    "import os\n",
    "import string\n",
    "import codecs\n",
    "\n",
    "# Home directory\n",
    "home_path = os.getcwd()\n",
    "os.chdir(os.path.join(home_path, \"enron1-training-data-raw\"))\n",
    "# Label mapping\n",
    "label_map = {\"spam\":\"1\", \"ham\":\"0\"}\n",
    "# Output\n",
    "out_path = os.path.join(home_path, \"train-Enron-1.txt\")\n",
    "\n",
    "# Iterate over directory\n",
    "with open(out_path, \"w\") as out_file:\n",
    "    for root, dirs, filenames in os.walk(os.getcwd()):\n",
    "        # Skip irrelevant folders\n",
    "        if not(root.endswith(\"spam\") or root.endswith(\"ham\")):\n",
    "            continue\n",
    "        # Spam and ham folders\n",
    "        for filename in filenames:            \n",
    "            # Skip Mac internal files\n",
    "            if filename.startswith(\".\"):\n",
    "                continue\n",
    "            # Process each file\n",
    "            doc_id, label, ext = os.path.basename(filename).rsplit(\".\", 2)\n",
    "            label = label_map[label]\n",
    "            # Ignore characters with non-standard coding\n",
    "            with codecs.open(os.path.join(root, filename), \"r\", encoding='utf-8', errors='replace') as email:                \n",
    "                # Only take printable characters\n",
    "                subject = email.readline()\n",
    "                subject = filter(lambda x: x in string.printable, subject)\n",
    "                subject = subject.strip().split(\"Subject: \")\n",
    "                if len(subject)!=2 or not subject[1]:\n",
    "                    subject = \"NA\"\n",
    "                else:                    \n",
    "                    subject = subject[1]\n",
    "                # Strip newlines to convert to string    \n",
    "                body = email.read()\n",
    "                body = filter(lambda x: x in string.printable, body)\n",
    "                body = body.strip().replace('\\r\\n', '')\n",
    "                if not body:\n",
    "                    body = \"NA\"\n",
    "            # Write to output file\n",
    "            out_file.write(('\\t'.join([doc_id, label, subject, body]) + '\\n').encode('ascii', 'replace'))"
   ]
  },
  {
   "cell_type": "code",
   "execution_count": 355,
   "metadata": {
    "collapsed": false,
    "scrolled": true
   },
   "outputs": [],
   "source": [
    "!./enron_merge.py"
   ]
  },
  {
   "cell_type": "code",
   "execution_count": 222,
   "metadata": {
    "collapsed": true
   },
   "outputs": [],
   "source": [
    "!chmod a+x enron_merge.py"
   ]
  },
  {
   "cell_type": "code",
   "execution_count": 356,
   "metadata": {
    "collapsed": false
   },
   "outputs": [
    {
     "name": "stdout",
     "output_type": "stream",
     "text": [
      "    5172 train-Enron-1.txt\r\n"
     ]
    }
   ],
   "source": [
    "!wc -l train-Enron-1.txt"
   ]
  },
  {
   "cell_type": "code",
   "execution_count": 357,
   "metadata": {
    "collapsed": false
   },
   "outputs": [
    {
     "name": "stdout",
     "output_type": "stream",
     "text": [
      "0001.1999-12-10.farmer\t0\tchristmas tree farm pictures\tNA\r\n",
      "0002.1999-12-13.farmer\t0\tvastar resources , inc .\tgary , production from the high island larger block a - 1 # 2 commenced onsaturday at 2 : 00 p . m . at about 6 , 500 gross . carlos expects between 9 , 500 and10 , 000 gross for tomorrow . vastar owns 68 % of the gross production .george x 3 - 6992- - - - - - - - - - - - - - - - - - - - - - forwarded by george weissman / hou / ect on 12 / 13 / 99 10 : 16am - - - - - - - - - - - - - - - - - - - - - - - - - - -daren j farmer12 / 10 / 99 10 : 38 amto : carlos j rodriguez / hou / ect @ ectcc : george weissman / hou / ect @ ect , melissa graves / hou / ect @ ectsubject : vastar resources , inc .carlos ,please call linda and get everything set up .i ' m going to estimate 4 , 500 coming up tomorrow , with a 2 , 000 increase eachfollowing day based on my conversations with bill fischer at bmar .d .- - - - - - - - - - - - - - - - - - - - - - forwarded by daren j farmer / hou / ect on 12 / 10 / 99 10 : 34am - - - - - - - - - - - - - - - - - - - - - - - - - - -enron north america corp .from : george weissman 12 / 10 / 99 10 : 00 amto : daren j farmer / hou / ect @ ectcc : gary bryan / hou / ect @ ect , melissa graves / hou / ect @ ectsubject : vastar resources , inc .darren ,the attached appears to be a nomination from vastar resources , inc . for thehigh island larger block a - 1 # 2 ( previously , erroneously referred to as the# 1 well ) . vastar now expects the well to commence production sometimetomorrow . i told linda harris that we ' d get her a telephone number in gascontrol so she can provide notification of the turn - on tomorrow . linda ' snumbers , for the record , are 281 . 584 . 3359 voice and 713 . 312 . 1689 fax .would you please see that someone contacts linda and advises her how tosubmit future nominations via e - mail , fax or voice ? thanks .george x 3 - 6992- - - - - - - - - - - - - - - - - - - - - - forwarded by george weissman / hou / ect on 12 / 10 / 99 09 : 44am - - - - - - - - - - - - - - - - - - - - - - - - - - -\" linda harris \" on 12 / 10 / 99 09 : 38 : 43 amto : george weissman / hou / ect @ ectcc :subject : hi a - 1 # 2effective 12 - 11 - 99| - - - - - - - - + - - - - - - - - - - + - - - - - - - - - - - || | | || mscf / d | min ftp | time || | | || - - - - - - - - + - - - - - - - - - - + - - - - - - - - - - - || | | || 4 , 500 | 9 , 925 | 24 hours || | | || - - - - - - - - + - - - - - - - - - - + - - - - - - - - - - - || | | || 6 , 000 | 9 , 908 | 24 hours || | | || - - - - - - - - + - - - - - - - - - - + - - - - - - - - - - - || | | || 8 , 000 | 9 , 878 | 24 hours || | | || - - - - - - - - + - - - - - - - - - - + - - - - - - - - - - - || | | || 10 , 000 | 9 , 840 | 24 hours || | | || - - - - - - - - + - - - - - - - - - - + - - - - - - - - - - - || | | || 12 , 000 | 9 , 793 | 24 hours || | | || - - - - - - - - + - - - - - - - - - - + - - - - - - - - - - - || | | || 14 , 000 | 9 , 738 | 24 hours || | | || - - - - - - - - + - - - - - - - - - - + - - - - - - - - - - - || | | || 16 , 000 | 9 , 674 | 24 hours || | | || - - - - - - - - + - - - - - - - - - - + - - - - - - - - - - - || | | || 18 , 000 | 9 , 602 | 24 hours || | | || - - - - - - - - + - - - - - - - - - - + - - - - - - - - - - - || | | || 20 , 000 | 9 , 521 | 24 hours || | | || - - - - - - - - + - - - - - - - - - - + - - - - - - - - - - - || | | || 22 , 000 | 9 , 431 | 24 hours || | | || - - - - - - - - + - - - - - - - - - - + - - - - - - - - - - - || | | || 24 , 000 | 9 , 332 | 24 hours || | | || - - - - - - - - + - - - - - - - - - - + - - - - - - - - - - - || | | || 26 , 000 | 9 , 224 | 24 hours || | | || - - - - - - - - + - - - - - - - - - - + - - - - - - - - - - - || | | || 28 , 000 | 9 , 108 | 24 hours || | | || - - - - - - - - + - - - - - - - - - - + - - - - - - - - - - - || | | || 30 , 000 | 8 , 982 | 24 hours || | | || - - - - - - - - + - - - - - - - - - - + - - - - - - - - - - - || | | || 32 , 000 | 8 , 847 | 24 hours || | | || - - - - - - - - + - - - - - - - - - - + - - - - - - - - - - - || | | || 34 , 000 | 8 , 703 | 24 hours || | | || - - - - - - - - + - - - - - - - - - - + - - - - - - - - - - - || | | || 36 , 000 | 8 , 549 | 24 hours || | | || - - - - - - - - + - - - - - - - - - - + - - - - - - - - - - - |\r\n",
      "0003.1999-12-14.farmer\t0\tcalpine daily gas nomination\t- calpine daily gas nomination 1 . doc\r\n",
      "0004.1999-12-14.farmer\t0\tre : issue\tfyi - see note below - already done .stella- - - - - - - - - - - - - - - - - - - - - - forwarded by stella l morris / hou / ect on 12 / 14 / 99 10 : 18am - - - - - - - - - - - - - - - - - - - - - - - - - - -from : sherlyn schumack on 12 / 14 / 99 10 : 06 amto : stella l morris / hou / ect @ ectcc : howard b camp / hou / ect @ ectsubject : re : issuestella ,this has already been taken care of . you did this for me yesterday .thanks .howard b camp12 / 14 / 99 09 : 10 amto : stella l morris / hou / ect @ ectcc : sherlyn schumack / hou / ect @ ect , howard b camp / hou / ect @ ect , staceyneuweiler / hou / ect @ ect , daren j farmer / hou / ect @ ectsubject : issuestella ,can you work with stacey or daren to resolvehc- - - - - - - - - - - - - - - - - - - - - - forwarded by howard b camp / hou / ect on 12 / 14 / 99 09 : 08am - - - - - - - - - - - - - - - - - - - - - - - - - - -from : sherlyn schumack 12 / 13 / 99 01 : 14 pmto : howard b camp / hou / ect @ ectcc :subject : issuei have to create accounting arrangement for purchase from unocal energy atmeter 986782 . deal not tracked for 5 / 99 . volume on deal 114427 expired 4 / 99 .\r\n",
      "0005.1999-12-14.farmer\t0\tmeter 7268 nov allocation\tfyi .- - - - - - - - - - - - - - - - - - - - - - forwarded by lauri a allen / hou / ect on 12 / 14 / 99 12 : 17pm - - - - - - - - - - - - - - - - - - - - - - - - - - -kimberly vaughn12 / 10 / 99 02 : 54 pmto : lauri a allen / hou / ect @ ectcc : mary m smith / hou / ect @ ectsubject : meter 7268 nov allocationlauri . . i have put this on strangas gas until i can get a contract fromdaren .- - - - - - - - - - - - - - - - - - - - - - forwarded by kimberly vaughn / hou / ect on 12 / 10 / 99 01 : 52pm - - - - - - - - - - - - - - - - - - - - - - - - - - -lauri a allen12 / 09 / 99 01 : 20 pmto : kimberly vaughn / hou / ect @ ect , anita luong / hou / ect @ ectcc : howard b camp / hou / ect @ ect , mary m smith / hou / ect @ ectsubject : meter 7268 nov allocationkim / anita -a volume of 7247 mm shows to have been allocated to the reliant 201 contractfor november . there was no nomination for reliant at this point in novemberand , therefore , there should be no volume allocated to their contract .please make sure these volumes are moved off the reliant contract prior tonovember close .thanks .\r\n",
      "0007.1999-12-14.farmer\t0\tmcmullen gas for 11 / 99\tjackie ,since the inlet to 3 river plant is shut in on 10 / 19 / 99 ( the last day offlow ) :at what meter is the mcmullen gas being diverted to ?at what meter is hpl buying the residue gas ? ( this is the gas from teco ,vastar , vintage , tejones , and swift )i still see active deals at meter 3405 in path manager for teco , vastar ,vintage , tejones , and swifti also see gas scheduled in pops at meter 3404 and 3405 .please advice . we need to resolve this as soon as possible so settlementcan send out payments .thanks\r\n",
      "0009.1999-12-14.farmer\t0\tmeter 1517 - jan 1999\tgeorge ,i need the following done :jan 13zero out 012 - 27049 - 02 - 001 receipt package id 2666allocate flow of 149 to 012 - 64610 - 02 - 055 deliv package id 392jan 26zero out 012 - 27049 - 02 - 001 receipt package id 3011zero out 012 - 64610 - 02 - 055 deliv package id 392these were buybacks that were incorrectly nominated to transport contracts( ect 201 receipt )let me know when this is donehc\r\n",
      "0010.1999-12-14.farmer\t0\tduns number changes\tfyi- - - - - - - - - - - - - - - - - - - - - - forwarded by gary l payne / hou / ect on 12 / 14 / 99 02 : 35 pm- - - - - - - - - - - - - - - - - - - - - - - - - - -from : antoine v pierre 12 / 14 / 99 02 : 34 pmto : tommy j yanowski / hou / ect @ ect , kathryn bussell / hou / ect @ ect , gary lpayne / hou / ect @ ect , diane e niestrath / hou / ect @ ect , romeo d ' souza / hou / ect @ ect ,michael eiben / hou / ect @ ect , clem cernosek / hou / ect @ ect , scottygilbert / hou / ect @ ect , dave nommensen / hou / ect @ ect , david rohan / hou / ect @ ect ,kevin heal / cal / ect @ ect , richard pinion / hou / ect @ ectcc : mary g gosnell / hou / ect @ ect , jason moore / hou / ect @ ect , samuelschott / hou / ect @ ect , bernice rodriguez / hou / ect @ ectsubject : duns number changesi will be making these changes at 11 : 00 am on wednesday december 15 .if you do not agree or have a problem with the dnb number change pleasenotify me , otherwise i will make the change as scheduled .dunns number change :counterparty cp id numberfrom tocinergy resources inc . 62163 869279893 928976257energy dynamics management , inc . 69545 825854664 088889774south jersey resources group llc 52109 789118270 036474336transalta energy marketing ( us ) inc . 62413 252050406 255326837philadelphia gas works 33282 148415904 146907159thanks ,rennie3 - 7578\r\n",
      "0011.1999-12-14.farmer\t0\tking ranch\tthere are two fields of gas that i am having difficulty with in the unifysystem .1 . cage ranch - since there is no processing agreement that accomodates thisgas on king ranch , it is my understanding hpl is selling the liquids andking ranch is re - delivering to stratton . it is also my understanding thatthere is a . 05 cent feeto deliver this gas . we need a method to accomodate the volume flow on hplat meter 415 and 9643 . this gaswill not be reflected on trans . usage ticket # 123395 and # 95394 since it isnot being nominated from a processing agreement . we either , need to inputa point nom ( on hpl or krgp ) at these meters to match the nom at meter 9610 ,or a deal for purchase and sale ( if king ranch is taking title to the gas )needs to be input into sitara at these meters with the appropriate rate . ihave currently input a point nom on krgp to accomodate this flow , so we candivert some of this gas to the current interstate sales that are being made .2 . forest oil - there is a processing agreement that will accomodate flowfrom the meter ( 6396 ) into king ranch . it is myunderstanding that this agreement was originally setup until texaco hadtheir own processing agreement . i need confirmation that the gas from thismeter should be nominated on contract # ( 96006681 ) and that this agreementshould have been reassigned to hplc . ( it is currently still under hplr ) .if this gas is not nominated on the above transport agreement , then onceagain we need to accomodate the flow volume on the hpl pipe with either apoint nom or a sitara deal at meters 415 and 9643 .\r\n",
      "0012.1999-12-14.farmer\t0\tre : entex transistion\tthanks so much for the memo . i would like to reiterate my support on two keyissues :1 ) . thu - best of luck on this new assignment . howard has worked hard anddone a great job ! please don ' t be shy on asking questions . entex iscritical to the texas business , and it is critical to our team that we aretimely and accurate .2 ) . rita : thanks for setting up the account team . communication iscritical to our success , and i encourage you all to keep each other informedat all times . the p & l impact to our business can be significant .additionally , this is high profile , so we want to assure top quality .thanks to all of you for all of your efforts . let me know if there isanything i can do to help provide any additional support .rita wynne12 / 14 / 99 02 : 38 : 45 pmto : janet h wallis / hou / ect @ ect , ami chokshi / corp / enron @ enron , howard bcamp / hou / ect @ ect , thu nguyen / hou / ect @ ect , kyle r lilly / hou / ect @ ect , staceyneuweiler / hou / ect @ ect , george grant / hou / ect @ ect , julie meyers / hou / ect @ ectcc : daren j farmer / hou / ect @ ect , kathryn cordes / hou / ect @ ect , ritawynne / hou / ect , lisa csikos / hou / ect @ ect , brenda f herod / hou / ect @ ect , pamelachambers / corp / enron @ enronsubject : entex transistionthe purpose of the email is to recap the kickoff meeting held on yesterdaywith members from commercial and volume managment concernig the entex account :effective january 2000 , thu nguyen ( x 37159 ) in the volume managment group ,will take over the responsibility of allocating the entex contracts . howardand thu began some training this month and will continue to transition theaccount over the next few months . entex will be thu ' s primary accountespecially during these first few months as she learns the allocationsprocess and the contracts .howard will continue with his lead responsibilites within the group and beavailable for questions or as a backup , if necessary ( thanks howard for allyour hard work on the account this year ! ) .in the initial phases of this transistion , i would like to organize an entex\" account \" team . the team ( members from front office to back office ) wouldmeet at some point in the month to discuss any issues relating to thescheduling , allocations , settlements , contracts , deals , etc . this hopefullywill give each of you a chance to not only identify and resolve issues beforethe finalization process , but to learn from each other relative to yourrespective areas and allow the newcomers to get up to speed on the account aswell . i would encourage everyone to attend these meetings initially as ibelieve this is a critical part to the success of the entex account .i will have my assistant to coordinate the initial meeting for early 1 / 2000 .if anyone has any questions or concerns , please feel free to call me or stopby . thanks in advance for everyone ' s cooperation . . . . . . . . . . .julie - please add thu to the confirmations distributions list\r\n"
     ]
    }
   ],
   "source": [
    "!head train-Enron-1.txt"
   ]
  },
  {
   "cell_type": "markdown",
   "metadata": {},
   "source": [
    "### HW2.8 OPTIONAL\n",
    "Using Hadoop Map-Reduce write job(s) to perform the following:\n",
    "- Train a multinomial Naive Bayes Classifier with Laplace plus one smoothing using the data extracted in HW2.7 (i.e., train-Enron-1.txt). Use all white-space delimitted tokens as independent input variables (assume spaces, fullstops, commas as delimiters). Drop tokens with a frequency of less than three (3).\n",
    "- Test the learnt classifier using enronemail_1h.txt and report the misclassification error rate. Remember to use all white-space delimitted tokens as independent input variables (assume spaces, fullstops, commas as delimiters). How do we treat tokens in the test set that do not appear in the training set?"
   ]
  },
  {
   "cell_type": "code",
   "execution_count": 377,
   "metadata": {
    "collapsed": false
   },
   "outputs": [
    {
     "name": "stdout",
     "output_type": "stream",
     "text": [
      "16/01/25 20:40:12 WARN util.NativeCodeLoader: Unable to load native-hadoop library for your platform... using builtin-java classes where applicable\r\n"
     ]
    }
   ],
   "source": [
    "!hdfs dfs -put train-Enron-1.txt /user/konniam/week_02"
   ]
  },
  {
   "cell_type": "markdown",
   "metadata": {},
   "source": [
    "#### 2.8 Strategy\n",
    "Using the entire corpus producted in 2.7, we use a similar 2-step training/classifcation strategy to learn a NB model."
   ]
  },
  {
   "cell_type": "markdown",
   "metadata": {},
   "source": [
    "#### 2.8 Training"
   ]
  },
  {
   "cell_type": "code",
   "execution_count": 367,
   "metadata": {
    "collapsed": false
   },
   "outputs": [
    {
     "name": "stdout",
     "output_type": "stream",
     "text": [
      "Overwriting /Users/InfernoIX/mapper.py\n"
     ]
    }
   ],
   "source": [
    "%%writefile ~/mapper.py\n",
    "#!/usr/bin/env python\n",
    "## mapper.py\n",
    "## Author: Konniam Chan\n",
    "## Description: mapper code for HW2.8\n",
    "from __future__ import unicode_literals\n",
    "import sys\n",
    "import re\n",
    "from collections import Counter\n",
    "\n",
    "# Map from integer label to word label\n",
    "label_map = {\"1\":\"spam\", \"0\":\"ham\"}\n",
    "# Dictionary to keep track of terms\n",
    "wordcounts = {\"spam\": Counter(), \"ham\": Counter()}\n",
    "# Regex split objects with specified delimiters (space, period, comma)\n",
    "regex_beg = re.compile(r'^[\\s.,\"]+')\n",
    "regex_end = re.compile(r'[\\s.,\"]+$')\n",
    "regex_split = re.compile(r'[\\s.,]+')\n",
    "\n",
    "# Process each document\n",
    "for line in sys.stdin:\n",
    "    # Lower case\n",
    "    line = line.strip().lower()\n",
    "    # Some lines have missing subjects\n",
    "    if len(line.split(\"\\t\")) == 4:\n",
    "        doc_id, label, subject, body = line.split(\"\\t\")\n",
    "    else:\n",
    "        subject = \"NA\"\n",
    "        doc_id, label, body = line.split(\"\\t\")\n",
    "    # Remove delimiters at beginning and end of subjects and body\n",
    "    subject = regex_beg.sub('', subject)\n",
    "    subject = regex_end.sub('', subject)\n",
    "    body = regex_beg.sub('', body)\n",
    "    body = regex_end.sub('', body)\n",
    "    # Split into words\n",
    "    words = regex_split.split(subject + \" \" + body)\n",
    "    # Sum words that go through each mapper\n",
    "    label = label_map[label]\n",
    "    wordcounts[label] += Counter(words)\n",
    "    # Increment number of documents\n",
    "    wordcounts[label][\"*numdocs\"] += 1\n",
    "# Delete any stray spaces\n",
    "del wordcounts['spam']['']\n",
    "del wordcounts['ham']['']\n",
    "# Output each word\n",
    "for label in wordcounts:\n",
    "    for word in wordcounts[label]:\n",
    "        print '%s\\t%s\\t%s'.encode('ascii', 'replace') % (word, label, wordcounts[label][word])"
   ]
  },
  {
   "cell_type": "code",
   "execution_count": 372,
   "metadata": {
    "collapsed": false
   },
   "outputs": [
    {
     "name": "stdout",
     "output_type": "stream",
     "text": [
      "Overwriting /Users/InfernoIX/reducer.py\n"
     ]
    }
   ],
   "source": [
    "%%writefile ~/reducer.py\n",
    "#!/usr/bin/env python\n",
    "## reducer.py\n",
    "## Author: Konniam Chan\n",
    "## Description: reducer code for HW2.8\n",
    "import sys\n",
    "from collections import Counter\n",
    "\n",
    "# Dictionary to keep track of terms\n",
    "wordcounts = {\"spam\": Counter(), \"ham\": Counter()}\n",
    "# Process each tuple in the form of (word, spam/ham, count) separated by \\t\n",
    "for line in sys.stdin:\n",
    "    word, label, count = line.strip().split(\"\\t\")\n",
    "    wordcounts[label][word] += int(count)\n",
    "\n",
    "# Output each word\n",
    "for label in wordcounts:\n",
    "    for word in wordcounts[label]:\n",
    "        print '%s\\t%s\\t%s' % (word, label, wordcounts[label][word])"
   ]
  },
  {
   "cell_type": "code",
   "execution_count": 378,
   "metadata": {
    "collapsed": false
   },
   "outputs": [
    {
     "name": "stdout",
     "output_type": "stream",
     "text": [
      "16/01/25 20:40:57 WARN util.NativeCodeLoader: Unable to load native-hadoop library for your platform... using builtin-java classes where applicable\n",
      "packageJobJar: [/var/folders/l8/h51_59852qscq403fs6q0xlh0000gn/T/hadoop-unjar8638680243381962498/] [] /var/folders/l8/h51_59852qscq403fs6q0xlh0000gn/T/streamjob4305228516953118512.jar tmpDir=null\n",
      "16/01/25 20:40:59 INFO client.RMProxy: Connecting to ResourceManager at /0.0.0.0:8032\n",
      "16/01/25 20:40:59 INFO client.RMProxy: Connecting to ResourceManager at /0.0.0.0:8032\n",
      "16/01/25 20:41:00 INFO mapred.FileInputFormat: Total input paths to process : 1\n",
      "16/01/25 20:41:00 INFO mapreduce.JobSubmitter: number of splits:2\n",
      "16/01/25 20:41:01 INFO mapreduce.JobSubmitter: Submitting tokens for job: job_1453765434085_0006\n",
      "16/01/25 20:41:01 INFO impl.YarnClientImpl: Submitted application application_1453765434085_0006\n",
      "16/01/25 20:41:01 INFO mapreduce.Job: The url to track the job: http://Konniams-MacBook-Air.local:8088/proxy/application_1453765434085_0006/\n",
      "16/01/25 20:41:01 INFO mapreduce.Job: Running job: job_1453765434085_0006\n",
      "16/01/25 20:41:10 INFO mapreduce.Job: Job job_1453765434085_0006 running in uber mode : false\n",
      "16/01/25 20:41:11 INFO mapreduce.Job:  map 0% reduce 0%\n",
      "16/01/25 20:41:26 INFO mapreduce.Job:  map 16% reduce 0%\n",
      "16/01/25 20:41:29 INFO mapreduce.Job:  map 21% reduce 0%\n",
      "16/01/25 20:41:32 INFO mapreduce.Job:  map 26% reduce 0%\n",
      "16/01/25 20:41:35 INFO mapreduce.Job:  map 29% reduce 0%\n",
      "16/01/25 20:41:38 INFO mapreduce.Job:  map 33% reduce 0%\n",
      "16/01/25 20:41:41 INFO mapreduce.Job:  map 34% reduce 0%\n",
      "16/01/25 20:41:44 INFO mapreduce.Job:  map 36% reduce 0%\n",
      "16/01/25 20:41:47 INFO mapreduce.Job:  map 37% reduce 0%\n",
      "16/01/25 20:41:53 INFO mapreduce.Job:  map 41% reduce 0%\n",
      "16/01/25 20:41:56 INFO mapreduce.Job:  map 42% reduce 0%\n",
      "16/01/25 20:42:02 INFO mapreduce.Job:  map 46% reduce 0%\n",
      "16/01/25 20:42:08 INFO mapreduce.Job:  map 47% reduce 0%\n",
      "16/01/25 20:42:14 INFO mapreduce.Job:  map 49% reduce 0%\n",
      "16/01/25 20:42:17 INFO mapreduce.Job:  map 50% reduce 0%\n",
      "16/01/25 20:42:27 INFO mapreduce.Job:  map 52% reduce 0%\n",
      "16/01/25 20:42:30 INFO mapreduce.Job:  map 54% reduce 0%\n",
      "16/01/25 20:42:33 INFO mapreduce.Job:  map 55% reduce 0%\n",
      "16/01/25 20:42:38 INFO mapreduce.Job:  map 57% reduce 0%\n",
      "16/01/25 20:42:44 INFO mapreduce.Job:  map 60% reduce 0%\n",
      "16/01/25 20:42:53 INFO mapreduce.Job:  map 63% reduce 0%\n",
      "16/01/25 20:43:02 INFO mapreduce.Job:  map 66% reduce 0%\n",
      "16/01/25 20:43:14 INFO mapreduce.Job:  map 67% reduce 0%\n",
      "16/01/25 20:43:16 INFO mapreduce.Job:  map 83% reduce 0%\n",
      "16/01/25 20:43:25 INFO mapreduce.Job:  map 100% reduce 0%\n",
      "16/01/25 20:43:28 INFO mapreduce.Job:  map 100% reduce 100%\n",
      "16/01/25 20:43:29 INFO mapreduce.Job: Job job_1453765434085_0006 completed successfully\n",
      "16/01/25 20:43:29 INFO mapreduce.Job: Counters: 49\n",
      "\tFile System Counters\n",
      "\t\tFILE: Number of bytes read=1599080\n",
      "\t\tFILE: Number of bytes written=3550329\n",
      "\t\tFILE: Number of read operations=0\n",
      "\t\tFILE: Number of large read operations=0\n",
      "\t\tFILE: Number of write operations=0\n",
      "\t\tHDFS: Number of bytes read=5321872\n",
      "\t\tHDFS: Number of bytes written=1329445\n",
      "\t\tHDFS: Number of read operations=9\n",
      "\t\tHDFS: Number of large read operations=0\n",
      "\t\tHDFS: Number of write operations=2\n",
      "\tJob Counters \n",
      "\t\tLaunched map tasks=2\n",
      "\t\tLaunched reduce tasks=1\n",
      "\t\tData-local map tasks=2\n",
      "\t\tTotal time spent by all maps in occupied slots (ms)=255600\n",
      "\t\tTotal time spent by all reduces in occupied slots (ms)=8751\n",
      "\t\tTotal time spent by all map tasks (ms)=255600\n",
      "\t\tTotal time spent by all reduce tasks (ms)=8751\n",
      "\t\tTotal vcore-seconds taken by all map tasks=255600\n",
      "\t\tTotal vcore-seconds taken by all reduce tasks=8751\n",
      "\t\tTotal megabyte-seconds taken by all map tasks=261734400\n",
      "\t\tTotal megabyte-seconds taken by all reduce tasks=8961024\n",
      "\tMap-Reduce Framework\n",
      "\t\tMap input records=5172\n",
      "\t\tMap output records=91474\n",
      "\t\tMap output bytes=1416125\n",
      "\t\tMap output materialized bytes=1599086\n",
      "\t\tInput split bytes=224\n",
      "\t\tCombine input records=0\n",
      "\t\tCombine output records=0\n",
      "\t\tReduce input groups=76300\n",
      "\t\tReduce shuffle bytes=1599086\n",
      "\t\tReduce input records=91474\n",
      "\t\tReduce output records=84938\n",
      "\t\tSpilled Records=182948\n",
      "\t\tShuffled Maps =2\n",
      "\t\tFailed Shuffles=0\n",
      "\t\tMerged Map outputs=2\n",
      "\t\tGC time elapsed (ms)=373\n",
      "\t\tCPU time spent (ms)=0\n",
      "\t\tPhysical memory (bytes) snapshot=0\n",
      "\t\tVirtual memory (bytes) snapshot=0\n",
      "\t\tTotal committed heap usage (bytes)=477626368\n",
      "\tShuffle Errors\n",
      "\t\tBAD_ID=0\n",
      "\t\tCONNECTION=0\n",
      "\t\tIO_ERROR=0\n",
      "\t\tWRONG_LENGTH=0\n",
      "\t\tWRONG_MAP=0\n",
      "\t\tWRONG_REDUCE=0\n",
      "\tFile Input Format Counters \n",
      "\t\tBytes Read=5321648\n",
      "\tFile Output Format Counters \n",
      "\t\tBytes Written=1329445\n",
      "16/01/25 20:43:29 INFO streaming.StreamJob: Output directory: /user/konniam/week_02/hw_2_8_output\n"
     ]
    }
   ],
   "source": [
    "# Run MapReduce job\n",
    "# Specify 1 reducer\n",
    "!hadoop jar hadoop-streaming-2.7.1.jar \\\n",
    "-D mapreduce.job.reduces=1 \\\n",
    "-mapper ~/mapper.py \\\n",
    "-reducer ~/reducer.py \\\n",
    "-input /user/konniam/week_02/train-Enron-1.txt \\\n",
    "-output /user/konniam/week_02/hw_2_8_output"
   ]
  },
  {
   "cell_type": "code",
   "execution_count": 379,
   "metadata": {
    "collapsed": false,
    "scrolled": true
   },
   "outputs": [
    {
     "name": "stdout",
     "output_type": "stream",
     "text": [
      "16/01/25 20:43:46 WARN util.NativeCodeLoader: Unable to load native-hadoop library for your platform... using builtin-java classes where applicable\n",
      "!\tham\t683\n",
      "!\tspam\t1288\n",
      "!\"\tspam\t1\n",
      "!$\tham\t1\n",
      "!$\tspam\t2\n",
      "!$68\tspam\t1\n",
      "!%\tspam\t11\n",
      "!'\tspam\t1\n",
      "!(\tham\t7\n",
      "!(\tspam\t1\n",
      "sort: write failed: standard output: Broken pipe\n",
      "sort: write error\n"
     ]
    }
   ],
   "source": [
    "!hdfs dfs -cat /user/konniam/week_02/hw_2_8_output/part* | sort -k1,1 | head"
   ]
  },
  {
   "cell_type": "markdown",
   "metadata": {},
   "source": [
    "The above MR job trained the model by obtaining the counts of all terms in either spam or ham.  \n",
    "We can now pass the result file from above when we want to classify our training data."
   ]
  },
  {
   "cell_type": "code",
   "execution_count": 380,
   "metadata": {
    "collapsed": false
   },
   "outputs": [
    {
     "name": "stdout",
     "output_type": "stream",
     "text": [
      "16/01/25 21:48:04 WARN util.NativeCodeLoader: Unable to load native-hadoop library for your platform... using builtin-java classes where applicable\n",
      "   84938\n"
     ]
    }
   ],
   "source": [
    "!hdfs dfs -cat /user/konniam/week_02/hw_2_8_output/part* | wc -l"
   ]
  },
  {
   "cell_type": "code",
   "execution_count": 383,
   "metadata": {
    "collapsed": false
   },
   "outputs": [
    {
     "name": "stdout",
     "output_type": "stream",
     "text": [
      "16/01/25 22:06:08 WARN util.NativeCodeLoader: Unable to load native-hadoop library for your platform... using builtin-java classes where applicable\r\n"
     ]
    }
   ],
   "source": [
    "# Save wordcounts to file on local drive\n",
    "!hdfs dfs -cat /user/konniam/week_02/hw_2_8_output/part* > ~/wordcounts_2_8.txt"
   ]
  },
  {
   "cell_type": "markdown",
   "metadata": {},
   "source": [
    "Run 2nd-stage MR job to classify the small email set, using the entire corpus:"
   ]
  },
  {
   "cell_type": "markdown",
   "metadata": {},
   "source": [
    "#### 2.8 Classification"
   ]
  },
  {
   "cell_type": "code",
   "execution_count": 381,
   "metadata": {
    "collapsed": false
   },
   "outputs": [
    {
     "name": "stdout",
     "output_type": "stream",
     "text": [
      "Overwriting /Users/InfernoIX/mapper_classify.py\n"
     ]
    }
   ],
   "source": [
    "%%writefile ~/mapper_classify.py\n",
    "#!/usr/bin/env python\n",
    "## mapper_classify.py\n",
    "## Author: Konniam Chan\n",
    "## Description: classification (with Laplace smoothing, ignore infrequent terms) \n",
    "## mapper code for HW2.8\n",
    "from __future__ import division\n",
    "import sys\n",
    "import re\n",
    "import math\n",
    "from collections import defaultdict\n",
    "\n",
    "# Map from integer label to word label\n",
    "label_map = {\"1\":\"spam\", \"0\":\"ham\"}\n",
    "# Regex split objects with specified delimiters (space, period, comma)\n",
    "regex_beg = re.compile(r'^[\\s.,\"]+')\n",
    "regex_end = re.compile(r'[\\s.,\"]+$')\n",
    "regex_split = re.compile(r'[\\s.,]+')\n",
    "\n",
    "# Load wordcounts from 2.8 in memory\n",
    "wordcounts = {\"spam\": defaultdict(int), \"ham\": defaultdict(int)}\n",
    "with open(\"wordcounts_2_8.txt\", \"r\") as f:\n",
    "    for line in f:\n",
    "        word, label, count = line.strip().split(\"\\t\")\n",
    "        wordcounts[label][word] = int(count)\n",
    "# Drop terms with total frequencies less than 3\n",
    "vocab_set = set(wordcounts['spam']).union(set(wordcounts['ham']))\n",
    "for word in vocab_set:\n",
    "    if (wordcounts['spam'][word] + wordcounts['ham'][word]) < 3:\n",
    "        del wordcounts['spam'][word]\n",
    "        del wordcounts['ham'][word]\n",
    "# Update vocabulary after deletion    \n",
    "vocab_set = set(wordcounts['spam']).union(set(wordcounts['ham']))        \n",
    "vocab_size = len(vocab_set)\n",
    "\n",
    "# Calculate total number of terms\n",
    "terms_spam = sum(wordcounts['spam'].values())\n",
    "terms_ham = sum(wordcounts['ham'].values())\n",
    "# Calculate priors and size of vocab\n",
    "prior_spam = wordcounts['spam']['*numdocs'] / (wordcounts['spam']['*numdocs'] + wordcounts['ham']['*numdocs'])\n",
    "prior_ham = 1 - prior_spam\n",
    "\n",
    "\n",
    "# Process each document\n",
    "for line in sys.stdin:\n",
    "    line = line.strip().lower()\n",
    "    # Some lines have missing subjects\n",
    "    if len(line.split(\"\\t\")) == 4:\n",
    "        doc_id, label, subject, body = line.split(\"\\t\")\n",
    "    else:\n",
    "        subject = \"na\"\n",
    "        doc_id, label, body = line.split(\"\\t\")\n",
    "    # Remove delimiters at beginning and end of subjects and body\n",
    "    subject = regex_beg.sub('', subject)\n",
    "    subject = regex_end.sub('', subject)\n",
    "    body = regex_beg.sub('', body)\n",
    "    body = regex_end.sub('', body)\n",
    "    # Split into words\n",
    "    words = regex_split.split(subject + \" \" + body)\n",
    "    \n",
    "    # Initialize probabilities with priors\n",
    "    log_probs = {\"spam\": math.log(prior_spam), \"ham\": math.log(prior_ham)}\n",
    "    # Iterate through each word and add probabilities\n",
    "    for word in words:\n",
    "        # Skip words that aren't in the vocab\n",
    "        if word not in wordcounts['spam'] and word not in wordcounts['ham']:\n",
    "            continue            \n",
    "        # Laplace smoothing\n",
    "        log_probs[\"spam\"] += math.log((wordcounts['spam'][word] + 1) / \n",
    "                                      (terms_spam + vocab_size))\n",
    "        log_probs[\"ham\"] += math.log((wordcounts['ham'][word] + 1) / \n",
    "                                     (terms_ham + vocab_size))\n",
    "\n",
    "    # Classify\n",
    "    predicted_label = \"1\" if log_probs[\"spam\"] > log_probs[\"ham\"] else \"0\"\n",
    "    # Normalize probabilities for output, prevent overflow\n",
    "    if log_probs[\"ham\"] - log_probs[\"spam\"] > 700:\n",
    "            probs_spam = 0\n",
    "    else:\n",
    "        probs_spam = 1 / (1 + math.exp(log_probs[\"ham\"] - log_probs[\"spam\"]))\n",
    "    probs_ham = 1 - probs_spam\n",
    "    \n",
    "    # Output (DocID, label, predicted label, p_spam, p_ham)\n",
    "    print '\\t'.join([doc_id, label, predicted_label, \n",
    "                     str(probs_spam), str(probs_ham)])"
   ]
  },
  {
   "cell_type": "code",
   "execution_count": 387,
   "metadata": {
    "collapsed": false
   },
   "outputs": [
    {
     "name": "stdout",
     "output_type": "stream",
     "text": [
      "16/01/25 22:09:35 WARN streaming.StreamJob: -file option is deprecated, please use generic option -files instead.\n",
      "16/01/25 22:09:35 WARN util.NativeCodeLoader: Unable to load native-hadoop library for your platform... using builtin-java classes where applicable\n",
      "packageJobJar: [/Users/InfernoIX/wordcounts_2_8.txt, /var/folders/l8/h51_59852qscq403fs6q0xlh0000gn/T/hadoop-unjar5326725080188935528/] [] /var/folders/l8/h51_59852qscq403fs6q0xlh0000gn/T/streamjob5623131734998070025.jar tmpDir=null\n",
      "16/01/25 22:09:37 INFO client.RMProxy: Connecting to ResourceManager at /0.0.0.0:8032\n",
      "16/01/25 22:09:37 INFO client.RMProxy: Connecting to ResourceManager at /0.0.0.0:8032\n",
      "16/01/25 22:09:38 INFO mapred.FileInputFormat: Total input paths to process : 1\n",
      "16/01/25 22:09:38 INFO mapreduce.JobSubmitter: number of splits:2\n",
      "16/01/25 22:09:38 INFO mapreduce.JobSubmitter: Submitting tokens for job: job_1453765434085_0008\n",
      "16/01/25 22:09:39 INFO impl.YarnClientImpl: Submitted application application_1453765434085_0008\n",
      "16/01/25 22:09:39 INFO mapreduce.Job: The url to track the job: http://Konniams-MacBook-Air.local:8088/proxy/application_1453765434085_0008/\n",
      "16/01/25 22:09:39 INFO mapreduce.Job: Running job: job_1453765434085_0008\n",
      "16/01/25 22:09:49 INFO mapreduce.Job: Job job_1453765434085_0008 running in uber mode : false\n",
      "16/01/25 22:09:49 INFO mapreduce.Job:  map 0% reduce 0%\n",
      "16/01/25 22:10:01 INFO mapreduce.Job:  map 100% reduce 0%\n",
      "16/01/25 22:10:02 INFO mapreduce.Job: Job job_1453765434085_0008 completed successfully\n",
      "16/01/25 22:10:03 INFO mapreduce.Job: Counters: 30\n",
      "\tFile System Counters\n",
      "\t\tFILE: Number of bytes read=0\n",
      "\t\tFILE: Number of bytes written=236382\n",
      "\t\tFILE: Number of read operations=0\n",
      "\t\tFILE: Number of large read operations=0\n",
      "\t\tFILE: Number of write operations=0\n",
      "\t\tHDFS: Number of bytes read=217192\n",
      "\t\tHDFS: Number of bytes written=4632\n",
      "\t\tHDFS: Number of read operations=10\n",
      "\t\tHDFS: Number of large read operations=0\n",
      "\t\tHDFS: Number of write operations=4\n",
      "\tJob Counters \n",
      "\t\tLaunched map tasks=2\n",
      "\t\tData-local map tasks=2\n",
      "\t\tTotal time spent by all maps in occupied slots (ms)=20404\n",
      "\t\tTotal time spent by all reduces in occupied slots (ms)=0\n",
      "\t\tTotal time spent by all map tasks (ms)=20404\n",
      "\t\tTotal vcore-seconds taken by all map tasks=20404\n",
      "\t\tTotal megabyte-seconds taken by all map tasks=20893696\n",
      "\tMap-Reduce Framework\n",
      "\t\tMap input records=100\n",
      "\t\tMap output records=100\n",
      "\t\tInput split bytes=224\n",
      "\t\tSpilled Records=0\n",
      "\t\tFailed Shuffles=0\n",
      "\t\tMerged Map outputs=0\n",
      "\t\tGC time elapsed (ms)=433\n",
      "\t\tCPU time spent (ms)=0\n",
      "\t\tPhysical memory (bytes) snapshot=0\n",
      "\t\tVirtual memory (bytes) snapshot=0\n",
      "\t\tTotal committed heap usage (bytes)=188219392\n",
      "\tFile Input Format Counters \n",
      "\t\tBytes Read=216968\n",
      "\tFile Output Format Counters \n",
      "\t\tBytes Written=4632\n",
      "16/01/25 22:10:03 INFO streaming.StreamJob: Output directory: /user/konniam/week_02/hw_2_8_output_classify\n"
     ]
    }
   ],
   "source": [
    "# Run MapReduce job\n",
    "# Map-only job. Pass in text file with wordcounts\n",
    "!hadoop jar hadoop-streaming-2.7.1.jar \\\n",
    "-D mapreduce.job.reduces=0 \\\n",
    "-mapper ~/mapper_classify.py \\\n",
    "-input /user/konniam/week_02/enronemail_1h.txt \\\n",
    "-output /user/konniam/week_02/hw_2_8_output_classify \\\n",
    "-file ~/wordcounts_2_8.txt"
   ]
  },
  {
   "cell_type": "code",
   "execution_count": 427,
   "metadata": {
    "collapsed": false
   },
   "outputs": [
    {
     "name": "stdout",
     "output_type": "stream",
     "text": [
      "16/01/25 23:55:16 WARN util.NativeCodeLoader: Unable to load native-hadoop library for your platform... using builtin-java classes where applicable\n",
      "0011.2003-12-18.gp\t1\t1\t1.0\t0.0\n",
      "0011.2004-08-01.bg\t1\t1\t1.0\t0.0\n",
      "0012.1999-12-14.farmer\t0\t0\t5.31855091372e-127\t1.0\n",
      "0012.1999-12-14.kaminski\t0\t0\t1.31343541076e-29\t1.0\n",
      "0012.2000-01-17.beck\t0\t0\t1.53420842707e-39\t1.0\n",
      "0012.2000-06-08.lokay\t0\t1\t1.0\t4.04121180964e-14\n",
      "0012.2001-02-09.kitchen\t0\t0\t6.46025337376e-10\t0.999999999354\n",
      "0012.2003-12-19.gp\t1\t1\t0.999999983328\t1.66724848372e-08\n",
      "0013.1999-12-14.farmer\t0\t0\t1.84396706319e-35\t1.0\n",
      "0013.1999-12-14.kaminski\t0\t0\t4.83587857574e-19\t1.0\n",
      "cat: Unable to write to output stream.\n"
     ]
    }
   ],
   "source": [
    "!hdfs dfs -cat /user/konniam/week_02/hw_2_8_output_classify/* | head"
   ]
  },
  {
   "cell_type": "markdown",
   "metadata": {},
   "source": [
    "### HW2.8.1 OPTIONAL\n",
    "- Run  both the Multinomial Naive Bayes and the Bernoulli Naive Bayes algorithms from SciKit-Learn (using default settings) over the same training data used in HW2.8 and report the misclassification error on both the training set and the testing set\n",
    "- Prepare a table to present your results, where rows correspond to approach used (SciKit-Learn Multinomial NB; SciKit-Learn Bernouili NB; Your Hadoop implementation)  and the columns presents the training misclassification error, and the misclassification error on the test data set\n",
    "- Discuss the performance differences in terms of misclassification error rates over the test and training datasets by the different implementations. Which approch (Bernouili versus Multinomial) would you recommend for SPAM detection? Justify your selection."
   ]
  },
  {
   "cell_type": "markdown",
   "metadata": {},
   "source": [
    "#### 2.8.1 Error Assessment"
   ]
  },
  {
   "cell_type": "code",
   "execution_count": 390,
   "metadata": {
    "collapsed": false,
    "scrolled": true
   },
   "outputs": [
    {
     "name": "stdout",
     "output_type": "stream",
     "text": [
      "16/01/25 22:15:06 WARN util.NativeCodeLoader: Unable to load native-hadoop library for your platform... using builtin-java classes where applicable\r\n"
     ]
    }
   ],
   "source": [
    "!hdfs dfs -cat /user/konniam/week_02/hw_2_8_output_classify/part* > hw_2_8_results.txt"
   ]
  },
  {
   "cell_type": "code",
   "execution_count": 391,
   "metadata": {
    "collapsed": false
   },
   "outputs": [
    {
     "name": "stdout",
     "output_type": "stream",
     "text": [
      "The training error is 0.12.\n"
     ]
    },
    {
     "data": {
      "image/png": "[encoded data removed]",
      "text/plain": [
       "<matplotlib.figure.Figure at 0x1091f05d0>"
      ]
     },
     "metadata": {},
     "output_type": "display_data"
    }
   ],
   "source": [
    "def hw_2_8_error():\n",
    "    # Parse results\n",
    "    columns = ['docid', 'label', 'preds', 'probs_spam', 'probs_ham']\n",
    "    df = pd.read_table(\"hw_2_8_results.txt\", header=None, names=columns)    \n",
    "    # Calculate error rate and output\n",
    "    print \"The training error is {}.\".format(np.mean(df['label'] != df['preds']))\n",
    "    # Plot histograms\n",
    "    plt.figure(figsize=(12,12))\n",
    "    plt.subplot(211)\n",
    "    sns.distplot(df['probs_spam'], bins = 20, kde=None)\n",
    "    plt.subplot(212)\n",
    "    sns.distplot(df['probs_ham'], bins = 20, kde=None)\n",
    "\n",
    "hw_2_8_error()"
   ]
  },
  {
   "cell_type": "code",
   "execution_count": 403,
   "metadata": {
    "collapsed": false
   },
   "outputs": [
    {
     "name": "stdout",
     "output_type": "stream",
     "text": [
      "The classification error is: 0.07.\n"
     ]
    }
   ],
   "source": [
    "def hw_2_8_1(NB_model, binary_features=False):\n",
    "    '''\n",
    "    Runs sklearn NB implentation on enron emails, using input choice of NB model\n",
    "    '''\n",
    "    # Load train and test data\n",
    "    data = {\"train\": {\"path\":\"train-Enron-1.txt\", \"doc_ids\":[], \"labels\":[],\n",
    "                      \"content\":[]},   \n",
    "            \"test\": {\"path\": \"enronemail_1h.txt\", \"doc_ids\":[], \"labels\":[],\n",
    "                     \"content\":[]}}\n",
    "    vectorizer = CountVectorizer(min_df=3, binary=binary_features)\n",
    "    \n",
    "    # Vectorize train\n",
    "    with open(data[\"train\"][\"path\"], \"r\") as f:\n",
    "        for line in f:            \n",
    "            doc_id, label, subject, body = line.split(\"\\t\")\n",
    "            data[\"train\"][\"doc_ids\"].append(doc_id)\n",
    "            data[\"train\"][\"labels\"].append(int(label))\n",
    "            data[\"train\"][\"content\"].append(subject + \" \" + body)\n",
    "    # Vectorize\n",
    "    data[\"train\"][\"content_vector\"] = vectorizer.fit_transform(data[\"train\"][\"content\"])\n",
    "        \n",
    "    # Vectorize test data\n",
    "    with open(data[\"test\"][\"path\"], \"r\") as f:\n",
    "        for line in f:\n",
    "            # Some lines have missing subjects\n",
    "            if len(line.split(\"\\t\")) == 4:\n",
    "                doc_id, label, subject, body = line.split(\"\\t\")\n",
    "            else:\n",
    "                subject = \"NA\"\n",
    "                doc_id, label, body = line.split(\"\\t\")\n",
    "            # Put into array format\n",
    "            data[\"test\"][\"doc_ids\"].append(doc_id)\n",
    "            data[\"test\"][\"labels\"].append(int(label))\n",
    "            data[\"test\"][\"content\"].append(subject + \" \" + body)\n",
    "    # Vectorize\n",
    "    data[\"test\"][\"content_vector\"] = vectorizer.transform(data[\"test\"][\"content\"])\n",
    "\n",
    "    # Classify with sklearn NB model\n",
    "    NB_model.fit(data[\"train\"][\"content_vector\"], data[\"train\"][\"labels\"])\n",
    "    preds = NB_model.predict(data[\"test\"][\"content_vector\"])\n",
    "    print \"The classification error is: {}.\".format(np.mean(np.array(data[\"test\"][\"labels\"]) != preds))\n",
    "\n",
    "# MultinomialNB, using terms of frequencies >= 3\n",
    "hw_2_8_1(MultinomialNB(), False)"
   ]
  },
  {
   "cell_type": "code",
   "execution_count": 404,
   "metadata": {
    "collapsed": false
   },
   "outputs": [
    {
     "name": "stdout",
     "output_type": "stream",
     "text": [
      "The classification error is: 0.08.\n"
     ]
    }
   ],
   "source": [
    "# Bernoulli NB\n",
    "hw_2_8_1(BernoulliNB(), binary_features=True)"
   ]
  },
  {
   "cell_type": "markdown",
   "metadata": {},
   "source": [
    "#### 2.8.1 Response\n",
    "\n",
    "| Model                                                                      | Training Error   |\n",
    "|----------------------------------------------------------------------------|------------------|\n",
    "| Multinomial NB, MapReduce implementation                                   | 0.12             |\n",
    "| Multinomial NB, Scikit-Learn Implementation                                | 0.07             |\n",
    "| Bernoulli NB, Scikit-Learn Implementation                                  | 0.08             |"
   ]
  },
  {
   "cell_type": "markdown",
   "metadata": {},
   "source": [
    "The sklearn implementatiaons performed better than the MR implementation. The main difference between the two is the feature selection process, as sklearn strips out all punctuations. It is likely that these stripped features are noisy and don't offer predictive power, making the sklearn models better overall."
   ]
  }
 ],
 "metadata": {
  "kernelspec": {
   "display_name": "Python 2",
   "language": "python",
   "name": "python2"
  },
  "language_info": {
   "codemirror_mode": {
    "name": "ipython",
    "version": 2
   },
   "file_extension": ".py",
   "mimetype": "text/x-python",
   "name": "python",
   "nbconvert_exporter": "python",
   "pygments_lexer": "ipython2",
   "version": "2.7.11"
  }
 },
 "nbformat": 4,
 "nbformat_minor": 0
}
